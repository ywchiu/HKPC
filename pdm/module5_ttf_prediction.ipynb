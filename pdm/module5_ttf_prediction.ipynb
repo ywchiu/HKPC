{
 "cells": [
  {
   "cell_type": "markdown",
   "metadata": {},
   "source": [
    "## 清理訓練數據集"
   ]
  },
  {
   "cell_type": "code",
   "execution_count": 1,
   "metadata": {},
   "outputs": [],
   "source": [
    "import pandas\n",
    "train_data_url = 'https://raw.githubusercontent.com/ywchiu/HKPC/master/data/pdm_train.csv'\n",
    "df_train = pandas.read_csv(train_data_url)"
   ]
  },
  {
   "cell_type": "code",
   "execution_count": 2,
   "metadata": {},
   "outputs": [
    {
     "data": {
      "text/plain": [
       "20631"
      ]
     },
     "execution_count": 2,
     "metadata": {},
     "output_type": "execute_result"
    }
   ],
   "source": [
    "len(df_train)"
   ]
  },
  {
   "cell_type": "code",
   "execution_count": 3,
   "metadata": {},
   "outputs": [
    {
     "data": {
      "text/html": [
       "<div>\n",
       "<style scoped>\n",
       "    .dataframe tbody tr th:only-of-type {\n",
       "        vertical-align: middle;\n",
       "    }\n",
       "\n",
       "    .dataframe tbody tr th {\n",
       "        vertical-align: top;\n",
       "    }\n",
       "\n",
       "    .dataframe thead th {\n",
       "        text-align: right;\n",
       "    }\n",
       "</style>\n",
       "<table border=\"1\" class=\"dataframe\">\n",
       "  <thead>\n",
       "    <tr style=\"text-align: right;\">\n",
       "      <th></th>\n",
       "      <th>id</th>\n",
       "      <th>cycle</th>\n",
       "      <th>setting1</th>\n",
       "      <th>setting2</th>\n",
       "      <th>setting3</th>\n",
       "      <th>s1</th>\n",
       "      <th>s2</th>\n",
       "      <th>s3</th>\n",
       "      <th>s4</th>\n",
       "      <th>s5</th>\n",
       "      <th>...</th>\n",
       "      <th>sd12</th>\n",
       "      <th>sd13</th>\n",
       "      <th>sd14</th>\n",
       "      <th>sd15</th>\n",
       "      <th>sd16</th>\n",
       "      <th>sd17</th>\n",
       "      <th>sd18</th>\n",
       "      <th>sd19</th>\n",
       "      <th>sd20</th>\n",
       "      <th>sd21</th>\n",
       "    </tr>\n",
       "  </thead>\n",
       "  <tbody>\n",
       "    <tr>\n",
       "      <th>0</th>\n",
       "      <td>1</td>\n",
       "      <td>1</td>\n",
       "      <td>-0.0007</td>\n",
       "      <td>-0.0004</td>\n",
       "      <td>100.0</td>\n",
       "      <td>518.67</td>\n",
       "      <td>641.82</td>\n",
       "      <td>1589.70</td>\n",
       "      <td>1400.60</td>\n",
       "      <td>14.62</td>\n",
       "      <td>...</td>\n",
       "      <td>0.000000</td>\n",
       "      <td>0.000000</td>\n",
       "      <td>0.000000</td>\n",
       "      <td>0.000000</td>\n",
       "      <td>0.0</td>\n",
       "      <td>0.000000</td>\n",
       "      <td>0.0</td>\n",
       "      <td>0.0</td>\n",
       "      <td>0.000000</td>\n",
       "      <td>0.000000</td>\n",
       "    </tr>\n",
       "    <tr>\n",
       "      <th>1</th>\n",
       "      <td>1</td>\n",
       "      <td>2</td>\n",
       "      <td>0.0019</td>\n",
       "      <td>-0.0003</td>\n",
       "      <td>100.0</td>\n",
       "      <td>518.67</td>\n",
       "      <td>642.15</td>\n",
       "      <td>1591.82</td>\n",
       "      <td>1403.14</td>\n",
       "      <td>14.62</td>\n",
       "      <td>...</td>\n",
       "      <td>0.438406</td>\n",
       "      <td>0.035355</td>\n",
       "      <td>5.041671</td>\n",
       "      <td>0.008697</td>\n",
       "      <td>0.0</td>\n",
       "      <td>0.000000</td>\n",
       "      <td>0.0</td>\n",
       "      <td>0.0</td>\n",
       "      <td>0.042426</td>\n",
       "      <td>0.003253</td>\n",
       "    </tr>\n",
       "    <tr>\n",
       "      <th>2</th>\n",
       "      <td>1</td>\n",
       "      <td>3</td>\n",
       "      <td>-0.0043</td>\n",
       "      <td>0.0003</td>\n",
       "      <td>100.0</td>\n",
       "      <td>518.67</td>\n",
       "      <td>642.35</td>\n",
       "      <td>1587.99</td>\n",
       "      <td>1404.20</td>\n",
       "      <td>14.62</td>\n",
       "      <td>...</td>\n",
       "      <td>0.404475</td>\n",
       "      <td>0.026458</td>\n",
       "      <td>3.717450</td>\n",
       "      <td>0.007640</td>\n",
       "      <td>0.0</td>\n",
       "      <td>1.154701</td>\n",
       "      <td>0.0</td>\n",
       "      <td>0.0</td>\n",
       "      <td>0.055076</td>\n",
       "      <td>0.044573</td>\n",
       "    </tr>\n",
       "    <tr>\n",
       "      <th>3</th>\n",
       "      <td>1</td>\n",
       "      <td>4</td>\n",
       "      <td>0.0007</td>\n",
       "      <td>0.0000</td>\n",
       "      <td>100.0</td>\n",
       "      <td>518.67</td>\n",
       "      <td>642.35</td>\n",
       "      <td>1582.79</td>\n",
       "      <td>1401.87</td>\n",
       "      <td>14.62</td>\n",
       "      <td>...</td>\n",
       "      <td>0.495950</td>\n",
       "      <td>0.029439</td>\n",
       "      <td>3.050906</td>\n",
       "      <td>0.028117</td>\n",
       "      <td>0.0</td>\n",
       "      <td>1.000000</td>\n",
       "      <td>0.0</td>\n",
       "      <td>0.0</td>\n",
       "      <td>0.076322</td>\n",
       "      <td>0.037977</td>\n",
       "    </tr>\n",
       "    <tr>\n",
       "      <th>4</th>\n",
       "      <td>1</td>\n",
       "      <td>5</td>\n",
       "      <td>-0.0019</td>\n",
       "      <td>-0.0002</td>\n",
       "      <td>100.0</td>\n",
       "      <td>518.67</td>\n",
       "      <td>642.37</td>\n",
       "      <td>1582.85</td>\n",
       "      <td>1406.22</td>\n",
       "      <td>14.62</td>\n",
       "      <td>...</td>\n",
       "      <td>0.432574</td>\n",
       "      <td>0.025884</td>\n",
       "      <td>2.651326</td>\n",
       "      <td>0.025953</td>\n",
       "      <td>0.0</td>\n",
       "      <td>1.095445</td>\n",
       "      <td>0.0</td>\n",
       "      <td>0.0</td>\n",
       "      <td>0.073621</td>\n",
       "      <td>0.033498</td>\n",
       "    </tr>\n",
       "  </tbody>\n",
       "</table>\n",
       "<p>5 rows × 72 columns</p>\n",
       "</div>"
      ],
      "text/plain": [
       "   id  cycle  setting1  setting2  setting3      s1      s2       s3       s4  \\\n",
       "0   1      1   -0.0007   -0.0004     100.0  518.67  641.82  1589.70  1400.60   \n",
       "1   1      2    0.0019   -0.0003     100.0  518.67  642.15  1591.82  1403.14   \n",
       "2   1      3   -0.0043    0.0003     100.0  518.67  642.35  1587.99  1404.20   \n",
       "3   1      4    0.0007    0.0000     100.0  518.67  642.35  1582.79  1401.87   \n",
       "4   1      5   -0.0019   -0.0002     100.0  518.67  642.37  1582.85  1406.22   \n",
       "\n",
       "      s5  ...      sd12      sd13      sd14      sd15  sd16      sd17  sd18  \\\n",
       "0  14.62  ...  0.000000  0.000000  0.000000  0.000000   0.0  0.000000   0.0   \n",
       "1  14.62  ...  0.438406  0.035355  5.041671  0.008697   0.0  0.000000   0.0   \n",
       "2  14.62  ...  0.404475  0.026458  3.717450  0.007640   0.0  1.154701   0.0   \n",
       "3  14.62  ...  0.495950  0.029439  3.050906  0.028117   0.0  1.000000   0.0   \n",
       "4  14.62  ...  0.432574  0.025884  2.651326  0.025953   0.0  1.095445   0.0   \n",
       "\n",
       "   sd19      sd20      sd21  \n",
       "0   0.0  0.000000  0.000000  \n",
       "1   0.0  0.042426  0.003253  \n",
       "2   0.0  0.055076  0.044573  \n",
       "3   0.0  0.076322  0.037977  \n",
       "4   0.0  0.073621  0.033498  \n",
       "\n",
       "[5 rows x 72 columns]"
      ]
     },
     "execution_count": 3,
     "metadata": {},
     "output_type": "execute_result"
    }
   ],
   "source": [
    "df_train.head()"
   ]
  },
  {
   "cell_type": "code",
   "execution_count": 4,
   "metadata": {
    "scrolled": true
   },
   "outputs": [
    {
     "data": {
      "text/plain": [
       "Index(['id', 'cycle', 'setting1', 'setting2', 'setting3', 's1', 's2', 's3',\n",
       "       's4', 's5', 's6', 's7', 's8', 's9', 's10', 's11', 's12', 's13', 's14',\n",
       "       's15', 's16', 's17', 's18', 's19', 's20', 's21', 'last_cycle', 'ttf',\n",
       "       'label_bnc', 'label_mcc', 'av1', 'av2', 'av3', 'av4', 'av5', 'av6',\n",
       "       'av7', 'av8', 'av9', 'av10', 'av11', 'av12', 'av13', 'av14', 'av15',\n",
       "       'av16', 'av17', 'av18', 'av19', 'av20', 'av21', 'sd1', 'sd2', 'sd3',\n",
       "       'sd4', 'sd5', 'sd6', 'sd7', 'sd8', 'sd9', 'sd10', 'sd11', 'sd12',\n",
       "       'sd13', 'sd14', 'sd15', 'sd16', 'sd17', 'sd18', 'sd19', 'sd20', 'sd21'],\n",
       "      dtype='object')"
      ]
     },
     "execution_count": 4,
     "metadata": {},
     "output_type": "execute_result"
    }
   ],
   "source": [
    "df_train.columns"
   ]
  },
  {
   "cell_type": "markdown",
   "metadata": {},
   "source": [
    "## 簡單線性迴歸"
   ]
  },
  {
   "cell_type": "code",
   "execution_count": 5,
   "metadata": {},
   "outputs": [
    {
     "data": {
      "text/plain": [
       "LinearRegression()"
      ]
     },
     "execution_count": 5,
     "metadata": {},
     "output_type": "execute_result"
    }
   ],
   "source": [
    "# 準備 x,y\n",
    "features = ['setting1','setting2','setting3','s1','s2','s3',\n",
    "            's4','s5','s6','s7','s8','s9','s10','s11','s12',\n",
    "            's13','s14','s15','s16','s17','s18','s19','s20','s21']\n",
    "\n",
    "train_X = df_train[features]\n",
    "train_y = df_train['ttf']\n",
    "\n",
    "# 建立模型\n",
    "from sklearn.linear_model import LinearRegression\n",
    "clf = LinearRegression()\n",
    "clf.fit(train_X,train_y)"
   ]
  },
  {
   "cell_type": "code",
   "execution_count": 6,
   "metadata": {},
   "outputs": [],
   "source": [
    "# 讀取測試數據集\n",
    "test_data_url = 'https://raw.githubusercontent.com/ywchiu/HKPC/master/data/pdm_test.csv'\n",
    "df_test = pandas.read_csv(test_data_url)"
   ]
  },
  {
   "cell_type": "code",
   "execution_count": 8,
   "metadata": {},
   "outputs": [
    {
     "data": {
      "text/plain": [
       "0.4054954961206241"
      ]
     },
     "execution_count": 8,
     "metadata": {},
     "output_type": "execute_result"
    }
   ],
   "source": [
    "# 產生 X,y\n",
    "test_X = df_test[features]\n",
    "test_y = df_test['ttf']\n",
    "\n",
    "# 產生預測結果\n",
    "pred_y = clf.predict(test_X)\n",
    "\n",
    "# 評估預測結果\n",
    "from sklearn.metrics import mean_squared_error\n",
    "mean_squared_error(test_y, pred_y)\n",
    "\n",
    "# 產生 R2\n",
    "from sklearn.metrics import r2_score\n",
    "r2_score(test_y, pred_y)"
   ]
  },
  {
   "cell_type": "markdown",
   "metadata": {},
   "source": [
    "## 簡單線性迴歸 v.s. 迴歸樹"
   ]
  },
  {
   "cell_type": "code",
   "execution_count": 9,
   "metadata": {},
   "outputs": [
    {
     "data": {
      "image/png": "[encoded data removed]",
      "text/plain": [
       "<Figure size 1440x720 with 1 Axes>"
      ]
     },
     "metadata": {
      "needs_background": "light"
     },
     "output_type": "display_data"
    }
   ],
   "source": [
    "import numpy as np\n",
    "import matplotlib.pyplot as plt\n",
    "from sklearn.tree import DecisionTreeRegressor\n",
    "from sklearn import linear_model\n",
    "\n",
    "# Data set\n",
    "x = np.array(list(range(1, 11))).reshape(-1, 1)\n",
    "y = np.array([4.50, 4.75, 4.91, 5.34, 5.80, 7.05, 7.90, 8.23, 8.70, 9.00]).ravel()\n",
    "\n",
    "# Fit regression model\n",
    "model1 = DecisionTreeRegressor(max_depth=1)\n",
    "model2 = DecisionTreeRegressor(max_depth=3)\n",
    "model3 = linear_model.LinearRegression()\n",
    "model1.fit(x, y)\n",
    "model2.fit(x, y)\n",
    "model3.fit(x, y)\n",
    "\n",
    "# Predict\n",
    "X_test = np.arange(0.0, 10.0, 0.01)[:, np.newaxis]\n",
    "y_1 = model1.predict(X_test)\n",
    "y_2 = model2.predict(X_test)\n",
    "y_3 = model3.predict(X_test)\n",
    "\n",
    "# Plot the results\n",
    "plt.figure(figsize = [20,10])\n",
    "plt.scatter(x, y, s=20, edgecolor=\"black\",\n",
    "            c=\"darkorange\", label=\"data\")\n",
    "plt.plot(X_test, y_1, color=\"cornflowerblue\",\n",
    "         label=\"max_depth=1\", linewidth=2)\n",
    "plt.plot(X_test, y_2, color=\"yellowgreen\", label=\"max_depth=3\", linewidth=2)\n",
    "plt.plot(X_test, y_3, color='red', label='liner regression', linewidth=2)\n",
    "plt.xlabel(\"data\")\n",
    "plt.ylabel(\"target\")\n",
    "plt.title(\"Decision Tree Regression\")\n",
    "plt.legend()\n",
    "plt.show()"
   ]
  },
  {
   "cell_type": "markdown",
   "metadata": {},
   "source": [
    "## 建立迴歸樹"
   ]
  },
  {
   "cell_type": "code",
   "execution_count": 10,
   "metadata": {},
   "outputs": [
    {
     "data": {
      "text/plain": [
       "0.4034804909704117"
      ]
     },
     "execution_count": 10,
     "metadata": {},
     "output_type": "execute_result"
    }
   ],
   "source": [
    "# 建立迴歸樹\n",
    "from sklearn.tree import DecisionTreeRegressor\n",
    "clf = DecisionTreeRegressor(max_depth=7)\n",
    "clf.fit(train_X,train_y)\n",
    "\n",
    "# 產生預測結果\n",
    "pred_y = clf.predict(test_X)\n",
    "\n",
    "# 產生 R2\n",
    "from sklearn.metrics import r2_score\n",
    "r2_score(test_y, pred_y)\n"
   ]
  },
  {
   "cell_type": "code",
   "execution_count": 11,
   "metadata": {},
   "outputs": [],
   "source": [
    "import graphviz\n",
    "from sklearn.tree import export_graphviz\n",
    "export_graphviz(clf, \"tree.dot\")\n",
    "#! cat tree.dot"
   ]
  },
  {
   "cell_type": "markdown",
   "metadata": {},
   "source": [
    "## RFECV"
   ]
  },
  {
   "cell_type": "code",
   "execution_count": 12,
   "metadata": {},
   "outputs": [
    {
     "name": "stderr",
     "output_type": "stream",
     "text": [
      "/Users/davidchiu/.pyenv/versions/3.7.3/lib/python3.7/site-packages/sklearn/model_selection/_split.py:297: FutureWarning: Setting a random_state has no effect since shuffle is False. This will raise an error in 0.24. You should leave random_state to its default (None), or set shuffle=True.\n",
      "  FutureWarning\n"
     ]
    },
    {
     "data": {
      "text/plain": [
       "['s4', 's7', 's9', 's11', 's12']"
      ]
     },
     "execution_count": 12,
     "metadata": {},
     "output_type": "execute_result"
    }
   ],
   "source": [
    "# 將數據做kfold\n",
    "from sklearn.model_selection import KFold\n",
    "kfold = KFold(n_splits=5, random_state=10)\n",
    "\n",
    "# 運用 RFECV 篩選特徵\n",
    "from sklearn.feature_selection import RFECV\n",
    "clf = DecisionTreeRegressor(max_depth=7)\n",
    "rfecv = RFECV(estimator=clf, step=1, cv=kfold, scoring='r2')\n",
    "rfecv.fit(train_X, train_y)\n",
    "rfecv.n_features_\n",
    "\n",
    "# 最佳特徵\n",
    "sel_features = [f for f,s in zip(train_X.columns, rfecv.support_) if s]\n",
    "sel_features\n"
   ]
  },
  {
   "cell_type": "code",
   "execution_count": 13,
   "metadata": {},
   "outputs": [
    {
     "data": {
      "image/png": "[encoded data removed]",
      "text/plain": [
       "<Figure size 720x360 with 1 Axes>"
      ]
     },
     "metadata": {
      "needs_background": "light"
     },
     "output_type": "display_data"
    }
   ],
   "source": [
    "from matplotlib import pyplot as plt\n",
    "plt.figure(figsize=[10,5])\n",
    "plt.xlabel(\"Number of Features\")\n",
    "plt.ylabel(\"MSE\")\n",
    "plt.plot(range(1, len(rfecv.grid_scores_) + 1), rfecv.grid_scores_)\n",
    "plt.show()"
   ]
  },
  {
   "cell_type": "code",
   "execution_count": 14,
   "metadata": {},
   "outputs": [
    {
     "data": {
      "text/plain": [
       "0.3221909787862586"
      ]
     },
     "execution_count": 14,
     "metadata": {},
     "output_type": "execute_result"
    }
   ],
   "source": [
    "# 產生預測結果\n",
    "pred_y = rfecv.predict(test_X)\n",
    "\n",
    "# 產生 R2\n",
    "from sklearn.metrics import r2_score\n",
    "r2_score(test_y, pred_y)"
   ]
  },
  {
   "cell_type": "markdown",
   "metadata": {},
   "source": [
    "## 隨機森林"
   ]
  },
  {
   "cell_type": "code",
   "execution_count": 15,
   "metadata": {},
   "outputs": [
    {
     "data": {
      "text/plain": [
       "0.5251984119830091"
      ]
     },
     "execution_count": 15,
     "metadata": {},
     "output_type": "execute_result"
    }
   ],
   "source": [
    "# 建立隨機森林\n",
    "from sklearn.ensemble import RandomForestRegressor\n",
    "rf = RandomForestRegressor(n_estimators=100, max_features=3, max_depth=4, random_state=1) \n",
    "rf.fit(train_X, train_y)\n",
    "\n",
    "# 產生預測結果\n",
    "pred_y = rf.predict(test_X)\n",
    "r2_score(test_y, pred_y)"
   ]
  },
  {
   "cell_type": "code",
   "execution_count": 16,
   "metadata": {},
   "outputs": [
    {
     "data": {
      "text/plain": [
       "([<matplotlib.axis.XTick at 0x1272cc0b8>,\n",
       "  <matplotlib.axis.XTick at 0x1272cc080>,\n",
       "  <matplotlib.axis.XTick at 0x1272cdcc0>,\n",
       "  <matplotlib.axis.XTick at 0x1297a9c50>,\n",
       "  <matplotlib.axis.XTick at 0x1297a97b8>,\n",
       "  <matplotlib.axis.XTick at 0x1297a9390>,\n",
       "  <matplotlib.axis.XTick at 0x1297b0390>,\n",
       "  <matplotlib.axis.XTick at 0x1297b0828>,\n",
       "  <matplotlib.axis.XTick at 0x1297b0cc0>,\n",
       "  <matplotlib.axis.XTick at 0x1297bc198>,\n",
       "  <matplotlib.axis.XTick at 0x1297bc630>,\n",
       "  <matplotlib.axis.XTick at 0x1297bcac8>,\n",
       "  <matplotlib.axis.XTick at 0x1297bcf60>,\n",
       "  <matplotlib.axis.XTick at 0x1297bc780>,\n",
       "  <matplotlib.axis.XTick at 0x1297b0c88>,\n",
       "  <matplotlib.axis.XTick at 0x1297a9668>,\n",
       "  <matplotlib.axis.XTick at 0x1297c41d0>,\n",
       "  <matplotlib.axis.XTick at 0x1297c4978>,\n",
       "  <matplotlib.axis.XTick at 0x1297c4e10>,\n",
       "  <matplotlib.axis.XTick at 0x12c4142e8>,\n",
       "  <matplotlib.axis.XTick at 0x12c414780>,\n",
       "  <matplotlib.axis.XTick at 0x12c414c18>,\n",
       "  <matplotlib.axis.XTick at 0x12c41d160>,\n",
       "  <matplotlib.axis.XTick at 0x12c4146d8>],\n",
       " [Text(0, 0, 'setting1'),\n",
       "  Text(0, 0, 'setting2'),\n",
       "  Text(0, 0, 'setting3'),\n",
       "  Text(0, 0, 's1'),\n",
       "  Text(0, 0, 's2'),\n",
       "  Text(0, 0, 's3'),\n",
       "  Text(0, 0, 's4'),\n",
       "  Text(0, 0, 's5'),\n",
       "  Text(0, 0, 's6'),\n",
       "  Text(0, 0, 's7'),\n",
       "  Text(0, 0, 's8'),\n",
       "  Text(0, 0, 's9'),\n",
       "  Text(0, 0, 's10'),\n",
       "  Text(0, 0, 's11'),\n",
       "  Text(0, 0, 's12'),\n",
       "  Text(0, 0, 's13'),\n",
       "  Text(0, 0, 's14'),\n",
       "  Text(0, 0, 's15'),\n",
       "  Text(0, 0, 's16'),\n",
       "  Text(0, 0, 's17'),\n",
       "  Text(0, 0, 's18'),\n",
       "  Text(0, 0, 's19'),\n",
       "  Text(0, 0, 's20'),\n",
       "  Text(0, 0, 's21')])"
      ]
     },
     "execution_count": 16,
     "metadata": {},
     "output_type": "execute_result"
    },
    {
     "data": {
      "image/png": "[encoded data removed]",
      "text/plain": [
       "<Figure size 1440x720 with 1 Axes>"
      ]
     },
     "metadata": {
      "needs_background": "light"
     },
     "output_type": "display_data"
    }
   ],
   "source": [
    "plt.figure(figsize=  [20,10])\n",
    "plt.bar(range(len(rf.feature_importances_)),rf.feature_importances_)\n",
    "plt.xticks(range(len(rf.feature_importances_)),list(train_X.columns))"
   ]
  },
  {
   "cell_type": "code",
   "execution_count": 17,
   "metadata": {},
   "outputs": [
    {
     "data": {
      "text/plain": [
       "28.634252712062626"
      ]
     },
     "execution_count": 17,
     "metadata": {},
     "output_type": "execute_result"
    }
   ],
   "source": [
    "# 產生預測結果\n",
    "from sklearn.metrics import mean_squared_error\n",
    "pred_y = rf.predict(test_X)\n",
    "mean_squared_error(test_y, pred_y) ** 0.5\n"
   ]
  }
 ],
 "metadata": {
  "kernelspec": {
   "display_name": "Python 3",
   "language": "python",
   "name": "python3"
  },
  "language_info": {
   "codemirror_mode": {
    "name": "ipython",
    "version": 3
   },
   "file_extension": ".py",
   "mimetype": "text/x-python",
   "name": "python",
   "nbconvert_exporter": "python",
   "pygments_lexer": "ipython3",
   "version": "3.7.3"
  }
 },
 "nbformat": 4,
 "nbformat_minor": 4
}
