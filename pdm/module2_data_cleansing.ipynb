{
 "cells": [
  {
   "cell_type": "markdown",
   "metadata": {},
   "source": [
    "## 清理訓練數據集"
   ]
  },
  {
   "cell_type": "code",
   "execution_count": 1,
   "metadata": {},
   "outputs": [],
   "source": [
    "import pandas\n",
    "data_url = 'https://raw.githubusercontent.com/ywchiu/HKPC/master/data/train.csv'\n",
    "\n",
    "df_train = pandas.read_csv(data_url)"
   ]
  },
  {
   "cell_type": "code",
   "execution_count": 2,
   "metadata": {},
   "outputs": [],
   "source": [
    "# 建立 Time-To-Failure 標籤\n",
    "df_train['ttf'] = df_train['last_cycle'] - df_train['cycle']\n",
    "\n",
    "# 建立引擎是否在30 個循環內故障的標籤\n",
    "df_train['label_bnc'] = df_train['ttf'].apply(lambda x: 1 if x <= 30 else 0)\n",
    "\n",
    "# 建立引擎是否在15 ~30 個循環內故障或15 個循環內故障的標籤\n",
    "df_train['label_mcc'] = df_train['ttf'].apply(lambda x: 2 if x <= 30/2 else 1 if x <= 30 else 0)"
   ]
  },
  {
   "cell_type": "code",
   "execution_count": 3,
   "metadata": {},
   "outputs": [
    {
     "data": {
      "text/plain": [
       "count    20631.000000\n",
       "mean       108.807862\n",
       "std         68.880990\n",
       "min          1.000000\n",
       "25%         52.000000\n",
       "50%        104.000000\n",
       "75%        156.000000\n",
       "max        362.000000\n",
       "Name: cycle, dtype: float64"
      ]
     },
     "execution_count": 3,
     "metadata": {},
     "output_type": "execute_result"
    }
   ],
   "source": [
    "df_train['cycle'].describe()"
   ]
  },
  {
   "cell_type": "code",
   "execution_count": 4,
   "metadata": {},
   "outputs": [
    {
     "data": {
      "text/plain": [
       "0        False\n",
       "1        False\n",
       "2        False\n",
       "3        False\n",
       "4        False\n",
       "         ...  \n",
       "20626    False\n",
       "20627    False\n",
       "20628    False\n",
       "20629    False\n",
       "20630    False\n",
       "Name: cycle, Length: 20631, dtype: bool"
      ]
     },
     "execution_count": 4,
     "metadata": {},
     "output_type": "execute_result"
    }
   ],
   "source": [
    "# 檢查cycle 有沒有缺失值\n",
    "df_train['cycle'].isna()"
   ]
  },
  {
   "cell_type": "code",
   "execution_count": 5,
   "metadata": {},
   "outputs": [
    {
     "data": {
      "text/plain": [
       "0"
      ]
     },
     "execution_count": 5,
     "metadata": {},
     "output_type": "execute_result"
    }
   ],
   "source": [
    "# 檢查cycle 缺失值的總數\n",
    "df_train['cycle'].isna().sum()"
   ]
  },
  {
   "cell_type": "code",
   "execution_count": 6,
   "metadata": {},
   "outputs": [
    {
     "data": {
      "text/plain": [
       "id            0\n",
       "cycle         0\n",
       "setting1      0\n",
       "setting2      0\n",
       "setting3      0\n",
       "s1            0\n",
       "s2            0\n",
       "s3            0\n",
       "s4            0\n",
       "s5            0\n",
       "s6            0\n",
       "s7            0\n",
       "s8            0\n",
       "s9            0\n",
       "s10           0\n",
       "s11           0\n",
       "s12           0\n",
       "s13           0\n",
       "s14           0\n",
       "s15           0\n",
       "s16           0\n",
       "s17           0\n",
       "s18           0\n",
       "s19           0\n",
       "s20           0\n",
       "s21           0\n",
       "last_cycle    0\n",
       "ttf           0\n",
       "label_bnc     0\n",
       "label_mcc     0\n",
       "dtype: int64"
      ]
     },
     "execution_count": 6,
     "metadata": {},
     "output_type": "execute_result"
    }
   ],
   "source": [
    "# 檢查DataFrame 各欄位的缺失值數\n",
    "df_train.isna().sum()"
   ]
  },
  {
   "cell_type": "code",
   "execution_count": 7,
   "metadata": {},
   "outputs": [
    {
     "data": {
      "text/plain": [
       "0            NaN\n",
       "1            NaN\n",
       "2            NaN\n",
       "3            NaN\n",
       "4        522.282\n",
       "          ...   \n",
       "20626    519.890\n",
       "20627    519.708\n",
       "20628    519.688\n",
       "20629    519.712\n",
       "20630    519.630\n",
       "Name: s12, Length: 20631, dtype: float64"
      ]
     },
     "execution_count": 7,
     "metadata": {},
     "output_type": "execute_result"
    }
   ],
   "source": [
    "df_train['s12'].rolling(window = 5).mean()"
   ]
  },
  {
   "cell_type": "code",
   "execution_count": 8,
   "metadata": {},
   "outputs": [
    {
     "data": {
      "text/plain": [
       "0             NaN\n",
       "1             NaN\n",
       "2             NaN\n",
       "3             NaN\n",
       "4        0.432574\n",
       "           ...   \n",
       "20626    0.460000\n",
       "20627    0.242322\n",
       "20628    0.201544\n",
       "20629    0.187670\n",
       "20630    0.263154\n",
       "Name: s12, Length: 20631, dtype: float64"
      ]
     },
     "execution_count": 8,
     "metadata": {},
     "output_type": "execute_result"
    }
   ],
   "source": [
    "df_train['s12'].rolling(window = 5).std()"
   ]
  },
  {
   "cell_type": "code",
   "execution_count": 9,
   "metadata": {},
   "outputs": [],
   "source": [
    "def add_features(df_in, rolling_win_size):\n",
    "    sensor_cols = ['s1','s2','s3','s4','s5','s6','s7','s8','s9','s10','s11','s12','s13','s14','s15','s16','s17','s18','s19','s20','s21']\n",
    "    \n",
    "    sensor_av_cols = [nm.replace('s', 'av') for nm in sensor_cols]\n",
    "    sensor_sd_cols = [nm.replace('s', 'sd') for nm in sensor_cols]\n",
    "    \n",
    "    df_out = pandas.DataFrame()\n",
    "    \n",
    "    ws = rolling_win_size\n",
    "    \n",
    "    for m_id in pandas.unique(df_in.id):    \n",
    "        df_engine = df_in[df_in['id'] == m_id]\n",
    "        df_sub = df_engine[sensor_cols]\n",
    "\n",
    "        # get rolling mean \n",
    "        av = df_sub.rolling(ws, min_periods=1).mean()\n",
    "        av.columns = sensor_av_cols\n",
    "    \n",
    "        # get the rolling std\n",
    "        sd = df_sub.rolling(ws, min_periods=1).std().fillna(0)\n",
    "        sd.columns = sensor_sd_cols\n",
    "    \n",
    "        new_ftrs = pandas.concat([df_engine,av,sd], axis=1)\n",
    "    \n",
    "        df_out = pandas.concat([df_out,new_ftrs])\n",
    "        \n",
    "    return df_out"
   ]
  },
  {
   "cell_type": "code",
   "execution_count": 10,
   "metadata": {},
   "outputs": [],
   "source": [
    "df_train_ex = add_features(df_train, 5)"
   ]
  },
  {
   "cell_type": "code",
   "execution_count": 11,
   "metadata": {},
   "outputs": [
    {
     "data": {
      "text/html": [
       "<div>\n",
       "<style scoped>\n",
       "    .dataframe tbody tr th:only-of-type {\n",
       "        vertical-align: middle;\n",
       "    }\n",
       "\n",
       "    .dataframe tbody tr th {\n",
       "        vertical-align: top;\n",
       "    }\n",
       "\n",
       "    .dataframe thead th {\n",
       "        text-align: right;\n",
       "    }\n",
       "</style>\n",
       "<table border=\"1\" class=\"dataframe\">\n",
       "  <thead>\n",
       "    <tr style=\"text-align: right;\">\n",
       "      <th></th>\n",
       "      <th>id</th>\n",
       "      <th>cycle</th>\n",
       "      <th>setting1</th>\n",
       "      <th>setting2</th>\n",
       "      <th>setting3</th>\n",
       "      <th>s1</th>\n",
       "      <th>s2</th>\n",
       "      <th>s3</th>\n",
       "      <th>s4</th>\n",
       "      <th>s5</th>\n",
       "      <th>...</th>\n",
       "      <th>sd12</th>\n",
       "      <th>sd13</th>\n",
       "      <th>sd14</th>\n",
       "      <th>sd15</th>\n",
       "      <th>sd16</th>\n",
       "      <th>sd17</th>\n",
       "      <th>sd18</th>\n",
       "      <th>sd19</th>\n",
       "      <th>sd20</th>\n",
       "      <th>sd21</th>\n",
       "    </tr>\n",
       "  </thead>\n",
       "  <tbody>\n",
       "    <tr>\n",
       "      <th>0</th>\n",
       "      <td>1</td>\n",
       "      <td>1</td>\n",
       "      <td>-0.0007</td>\n",
       "      <td>-0.0004</td>\n",
       "      <td>100.0</td>\n",
       "      <td>518.67</td>\n",
       "      <td>641.82</td>\n",
       "      <td>1589.70</td>\n",
       "      <td>1400.60</td>\n",
       "      <td>14.62</td>\n",
       "      <td>...</td>\n",
       "      <td>0.000000</td>\n",
       "      <td>0.000000</td>\n",
       "      <td>0.000000</td>\n",
       "      <td>0.000000</td>\n",
       "      <td>0.0</td>\n",
       "      <td>0.000000</td>\n",
       "      <td>0.0</td>\n",
       "      <td>0.0</td>\n",
       "      <td>0.000000</td>\n",
       "      <td>0.000000</td>\n",
       "    </tr>\n",
       "    <tr>\n",
       "      <th>1</th>\n",
       "      <td>1</td>\n",
       "      <td>2</td>\n",
       "      <td>0.0019</td>\n",
       "      <td>-0.0003</td>\n",
       "      <td>100.0</td>\n",
       "      <td>518.67</td>\n",
       "      <td>642.15</td>\n",
       "      <td>1591.82</td>\n",
       "      <td>1403.14</td>\n",
       "      <td>14.62</td>\n",
       "      <td>...</td>\n",
       "      <td>0.438406</td>\n",
       "      <td>0.035355</td>\n",
       "      <td>5.041671</td>\n",
       "      <td>0.008697</td>\n",
       "      <td>0.0</td>\n",
       "      <td>0.000000</td>\n",
       "      <td>0.0</td>\n",
       "      <td>0.0</td>\n",
       "      <td>0.042426</td>\n",
       "      <td>0.003253</td>\n",
       "    </tr>\n",
       "    <tr>\n",
       "      <th>2</th>\n",
       "      <td>1</td>\n",
       "      <td>3</td>\n",
       "      <td>-0.0043</td>\n",
       "      <td>0.0003</td>\n",
       "      <td>100.0</td>\n",
       "      <td>518.67</td>\n",
       "      <td>642.35</td>\n",
       "      <td>1587.99</td>\n",
       "      <td>1404.20</td>\n",
       "      <td>14.62</td>\n",
       "      <td>...</td>\n",
       "      <td>0.404475</td>\n",
       "      <td>0.026458</td>\n",
       "      <td>3.717450</td>\n",
       "      <td>0.007640</td>\n",
       "      <td>0.0</td>\n",
       "      <td>1.154701</td>\n",
       "      <td>0.0</td>\n",
       "      <td>0.0</td>\n",
       "      <td>0.055076</td>\n",
       "      <td>0.044573</td>\n",
       "    </tr>\n",
       "    <tr>\n",
       "      <th>3</th>\n",
       "      <td>1</td>\n",
       "      <td>4</td>\n",
       "      <td>0.0007</td>\n",
       "      <td>0.0000</td>\n",
       "      <td>100.0</td>\n",
       "      <td>518.67</td>\n",
       "      <td>642.35</td>\n",
       "      <td>1582.79</td>\n",
       "      <td>1401.87</td>\n",
       "      <td>14.62</td>\n",
       "      <td>...</td>\n",
       "      <td>0.495950</td>\n",
       "      <td>0.029439</td>\n",
       "      <td>3.050906</td>\n",
       "      <td>0.028117</td>\n",
       "      <td>0.0</td>\n",
       "      <td>1.000000</td>\n",
       "      <td>0.0</td>\n",
       "      <td>0.0</td>\n",
       "      <td>0.076322</td>\n",
       "      <td>0.037977</td>\n",
       "    </tr>\n",
       "    <tr>\n",
       "      <th>4</th>\n",
       "      <td>1</td>\n",
       "      <td>5</td>\n",
       "      <td>-0.0019</td>\n",
       "      <td>-0.0002</td>\n",
       "      <td>100.0</td>\n",
       "      <td>518.67</td>\n",
       "      <td>642.37</td>\n",
       "      <td>1582.85</td>\n",
       "      <td>1406.22</td>\n",
       "      <td>14.62</td>\n",
       "      <td>...</td>\n",
       "      <td>0.432574</td>\n",
       "      <td>0.025884</td>\n",
       "      <td>2.651326</td>\n",
       "      <td>0.025953</td>\n",
       "      <td>0.0</td>\n",
       "      <td>1.095445</td>\n",
       "      <td>0.0</td>\n",
       "      <td>0.0</td>\n",
       "      <td>0.073621</td>\n",
       "      <td>0.033498</td>\n",
       "    </tr>\n",
       "  </tbody>\n",
       "</table>\n",
       "<p>5 rows × 72 columns</p>\n",
       "</div>"
      ],
      "text/plain": [
       "   id  cycle  setting1  setting2  setting3      s1      s2       s3       s4  \\\n",
       "0   1      1   -0.0007   -0.0004     100.0  518.67  641.82  1589.70  1400.60   \n",
       "1   1      2    0.0019   -0.0003     100.0  518.67  642.15  1591.82  1403.14   \n",
       "2   1      3   -0.0043    0.0003     100.0  518.67  642.35  1587.99  1404.20   \n",
       "3   1      4    0.0007    0.0000     100.0  518.67  642.35  1582.79  1401.87   \n",
       "4   1      5   -0.0019   -0.0002     100.0  518.67  642.37  1582.85  1406.22   \n",
       "\n",
       "      s5  ...      sd12      sd13      sd14      sd15  sd16      sd17  sd18  \\\n",
       "0  14.62  ...  0.000000  0.000000  0.000000  0.000000   0.0  0.000000   0.0   \n",
       "1  14.62  ...  0.438406  0.035355  5.041671  0.008697   0.0  0.000000   0.0   \n",
       "2  14.62  ...  0.404475  0.026458  3.717450  0.007640   0.0  1.154701   0.0   \n",
       "3  14.62  ...  0.495950  0.029439  3.050906  0.028117   0.0  1.000000   0.0   \n",
       "4  14.62  ...  0.432574  0.025884  2.651326  0.025953   0.0  1.095445   0.0   \n",
       "\n",
       "   sd19      sd20      sd21  \n",
       "0   0.0  0.000000  0.000000  \n",
       "1   0.0  0.042426  0.003253  \n",
       "2   0.0  0.055076  0.044573  \n",
       "3   0.0  0.076322  0.037977  \n",
       "4   0.0  0.073621  0.033498  \n",
       "\n",
       "[5 rows x 72 columns]"
      ]
     },
     "execution_count": 11,
     "metadata": {},
     "output_type": "execute_result"
    }
   ],
   "source": [
    "df_train_ex.head()"
   ]
  },
  {
   "cell_type": "code",
   "execution_count": 12,
   "metadata": {},
   "outputs": [],
   "source": [
    "df_train_ex.to_csv('data/pdm_train.csv', index =None)"
   ]
  },
  {
   "cell_type": "markdown",
   "metadata": {},
   "source": [
    "## 清理測試數據集"
   ]
  },
  {
   "cell_type": "code",
   "execution_count": 13,
   "metadata": {},
   "outputs": [],
   "source": [
    "import pandas\n",
    "data_url = 'https://raw.githubusercontent.com/ywchiu/HKPC/master/data/test.csv'\n",
    "\n",
    "df_test = pandas.read_csv(data_url)"
   ]
  },
  {
   "cell_type": "code",
   "execution_count": 14,
   "metadata": {},
   "outputs": [],
   "source": [
    "# 建立 Time-To-Failure 標籤\n",
    "df_test['ttf'] = df_test['last_cycle'] - df_test['cycle']\n",
    "\n",
    "# 建立引擎是否在30 個循環內故障的標籤\n",
    "df_test['label_bnc'] = df_test['ttf'].apply(lambda x: 1 if x <= 30 else 0)\n",
    "\n",
    "# 建立引擎是否在15 ~30 個循環內故障或15 個循環內故障的標籤\n",
    "df_test['label_mcc'] = df_test['ttf'].apply(lambda x: 2 if x <= 30/2 else 1 if x <= 30 else 0)"
   ]
  },
  {
   "cell_type": "markdown",
   "metadata": {},
   "source": [
    "## 小任務\n",
    "\n",
    "請仿照準備訓練數據集的方式檢視數據\n",
    "\n",
    "- 使用 describe 檢視測試數據集 cycle 的敘述性統計\n",
    "- 使用 isna 檢視測試數據集的 cycle 缺失值 (Missing Value) 的總數\n",
    "- 檢查df_tst DataFrame 各欄位的缺失值數\n",
    "- 使用 add_features函數 幫 df_test 增加區間5 的平均值與標準差，並將結果存到 df_test_ex 中\n",
    "- 請將 df_test_ex 存至 pdf_test.csv 中"
   ]
  },
  {
   "cell_type": "code",
   "execution_count": 1,
   "metadata": {},
   "outputs": [],
   "source": [
    "# 使用 describe 檢視測試數據集 cycle 的敘述性統計"
   ]
  },
  {
   "cell_type": "code",
   "execution_count": 2,
   "metadata": {},
   "outputs": [],
   "source": [
    "# 使用 isna 檢視測試數據集的 cycle 缺失值 (Missing Value) 的總數"
   ]
  },
  {
   "cell_type": "code",
   "execution_count": 3,
   "metadata": {},
   "outputs": [],
   "source": [
    "# 檢查df_tst DataFrame 各欄位的缺失值數"
   ]
  },
  {
   "cell_type": "code",
   "execution_count": 19,
   "metadata": {},
   "outputs": [],
   "source": [
    "# 使用 add_features函數 幫 df_test 增加區間5 的平均值與標準差，並將結果存到 df_test_ex 中"
   ]
  },
  {
   "cell_type": "code",
   "execution_count": 21,
   "metadata": {},
   "outputs": [],
   "source": [
    "# 請將 df_test_ex 存至 pdf_test.csv 中"
   ]
  }
 ],
 "metadata": {
  "kernelspec": {
   "display_name": "Python 3",
   "language": "python",
   "name": "python3"
  },
  "language_info": {
   "codemirror_mode": {
    "name": "ipython",
    "version": 3
   },
   "file_extension": ".py",
   "mimetype": "text/x-python",
   "name": "python",
   "nbconvert_exporter": "python",
   "pygments_lexer": "ipython3",
   "version": "3.7.3"
  }
 },
 "nbformat": 4,
 "nbformat_minor": 4
}
