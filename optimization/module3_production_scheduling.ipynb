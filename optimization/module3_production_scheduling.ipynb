{
 "cells": [
  {
   "cell_type": "markdown",
   "metadata": {},
   "source": [
    "## 讀取生產排程數據"
   ]
  },
  {
   "cell_type": "code",
   "execution_count": null,
   "metadata": {},
   "outputs": [],
   "source": [
    "import pandas as pd\n",
    "from pulp import *\n",
    "\n",
    "param=pd.read_excel('https://raw.githubusercontent.com/ywchiu/HKPC/master/data/Production_scheduling.xlsx')\n",
    "param=param.rename(columns={'Unnamed: 0': 'period'} )\n",
    "param['Capacity']=5000\n",
    "param['t']= range(1,13)\n",
    "\n",
    "param= param.set_index('t')\n",
    "param.head()"
   ]
  },
  {
   "cell_type": "markdown",
   "metadata": {},
   "source": [
    "## 利用PuLP 優化"
   ]
  },
  {
   "cell_type": "code",
   "execution_count": null,
   "metadata": {},
   "outputs": [],
   "source": [
    "inventory= LpVariable.dicts('inv',[0,1,2,3,4,5,6,7,8,9,10,11,12],0,None,'Integer')\n",
    "inventory[0]= 200\n",
    "\n",
    "production=LpVariable.dicts('Prod',[1,2,3,4,5,6,7,8,9,10,11,12],0,None,'Integer')\n",
    "binary= LpVariable.dicts('binary',[1,2,3,4,5,6,7,8,9,10,11,12],0,None,'Binary')\n",
    "\n",
    "time= [1,2,3,4,5,6,7,8,9,10,11,12]\n",
    "\n",
    "\n",
    "model= LpProblem('Production',LpMinimize)\n",
    "\n",
    "model += lpSum([ inventory[t]* param.loc[t,'storage cost']+ production[t]* param.loc[t,'var']+\n",
    "                binary[t]* param.loc[t,'fixed cost'] for t in time])\n",
    "\n",
    "\n",
    "for t in time:\n",
    "    model+=  production[t]  -  inventory[t]+ inventory[t-1]>= param.loc[t,'demand']\n",
    "    model +=   production[t]<=        binary[t]* param.loc[t,'Capacity']\n",
    "    \n",
    "model.solve()    \n",
    "for v in model.variables():\n",
    "    print(v,v.varValue)\n",
    "\n",
    "for i in production: print(production[i],production[i].varValue)"
   ]
  },
  {
   "cell_type": "code",
   "execution_count": null,
   "metadata": {},
   "outputs": [],
   "source": []
  }
 ],
 "metadata": {
  "kernelspec": {
   "display_name": "Python 3",
   "language": "python",
   "name": "python3"
  },
  "language_info": {
   "codemirror_mode": {
    "name": "ipython",
    "version": 3
   },
   "file_extension": ".py",
   "mimetype": "text/x-python",
   "name": "python",
   "nbconvert_exporter": "python",
   "pygments_lexer": "ipython3",
   "version": "3.7.3"
  }
 },
 "nbformat": 4,
 "nbformat_minor": 4
}
