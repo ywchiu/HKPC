{
 "cells": [
  {
   "cell_type": "markdown",
   "metadata": {},
   "source": [
    "## 讀取工廠距離數據"
   ]
  },
  {
   "cell_type": "code",
   "execution_count": 1,
   "metadata": {},
   "outputs": [],
   "source": [
    "\n",
    "import pandas as pd\n",
    "from pulp import *\n",
    "\n",
    "dist= pd.read_excel('https://raw.githubusercontent.com/ywchiu/HKPC/master/data/warehouse_city.xlsx')\n",
    "\n",
    "dist= dist.set_index('Warehouse')\n",
    "\n",
    "\n",
    "demand=[10000,20000,33000,9000,60000,2500,35000]\n",
    "warehouse= dist.index\n",
    "customers= dist.columns\n",
    "\n",
    "keys= [(w,c) for w in warehouse for c in customers]\n",
    "\n",
    "dist_dict= { (w,c): dist.loc[w,c] for w in warehouse for c in customers}\n",
    "\n",
    "\n",
    "flows= LpVariable.dicts('flows',keys,cat='Binary')\n",
    "open_w= LpVariable.dicts('open_w',warehouse,cat='Binary')\n",
    "\n",
    "demand_dict= dict(zip(customers,demand))\n",
    "\n",
    "\n"
   ]
  },
  {
   "cell_type": "markdown",
   "metadata": {},
   "source": [
    "## 距離數據優化"
   ]
  },
  {
   "cell_type": "code",
   "execution_count": 2,
   "metadata": {},
   "outputs": [
    {
     "name": "stdout",
     "output_type": "stream",
     "text": [
      "open_w_city_1 0.0\n",
      "open_w_city_2 1.0\n",
      "open_w_city_3 1.0\n",
      "open_w_city_4 0.0\n",
      "open_w_city_5 1.0\n",
      "open_w_city_6 0.0\n",
      "open_w_city_7 0.0\n"
     ]
    }
   ],
   "source": [
    "model= LpProblem('w_alloc',LpMinimize)\n",
    "\n",
    "model+= lpSum([demand_dict[(c)]* flows[(w,c)]* dist_dict[(w,c)] for c in customers for w in warehouse])\n",
    "\n",
    "\n",
    "for c in customers:\n",
    "    model+= lpSum([flows[(w,c)] for w in warehouse])== 1\n",
    "    \n",
    "\n",
    "model+= lpSum([open_w[(w)] for w in warehouse])==3\n",
    "\n",
    "\n",
    "\n",
    "for w in warehouse:\n",
    "    model+= open_w[(w)]>= flows[(w,'city 1')]\n",
    "    model+= open_w[(w)]>= flows[(w,'city 2')]\n",
    "    model+= open_w[(w)]>= flows[(w,'city 3')]\n",
    "    model+= open_w[(w)]>= flows[(w,'city 4')]\n",
    "    model+= open_w[(w)]>= flows[(w,'city 5')]\n",
    "    model+= open_w[(w)]>= flows[(w,'city 6')]\n",
    "    model+= open_w[(w)]>= flows[(w,'city 7')]\n",
    "\n",
    "model.solve()\n",
    "\n",
    "for i in open_w:\n",
    "    print(open_w[i],open_w[i].varValue)\n",
    "\n",
    "flows_names= ['{} to {}'.format(w, c) for w in warehouse for c in customers]\n",
    "flows_quantity= [flows[(w,c)].varValue for w in warehouse for c in customers]\n",
    "flows_dict= dict(zip(flows_names,flows_quantity))\n",
    "\n",
    "average_distance= value(model.objective)/sum(demand)\n",
    "n_warehouses_opened= sum([open_w[(w)].varValue for w in warehouse])\n",
    "\n"
   ]
  }
 ],
 "metadata": {
  "kernelspec": {
   "display_name": "Python 3",
   "language": "python",
   "name": "python3"
  },
  "language_info": {
   "codemirror_mode": {
    "name": "ipython",
    "version": 3
   },
   "file_extension": ".py",
   "mimetype": "text/x-python",
   "name": "python",
   "nbconvert_exporter": "python",
   "pygments_lexer": "ipython3",
   "version": "3.7.3"
  }
 },
 "nbformat": 4,
 "nbformat_minor": 4
}
