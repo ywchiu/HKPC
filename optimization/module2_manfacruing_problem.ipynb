{
 "cells": [
  {
   "cell_type": "markdown",
   "metadata": {},
   "source": [
    "## 安裝 PuLP"
   ]
  },
  {
   "cell_type": "code",
   "execution_count": 1,
   "metadata": {},
   "outputs": [
    {
     "name": "stdout",
     "output_type": "stream",
     "text": [
      "Collecting pulp\n",
      "  Downloading PuLP-2.4-py3-none-any.whl (40.6 MB)\n",
      "\u001b[K     |████████████████████████████████| 40.6 MB 3.1 MB/s eta 0:00:01\n",
      "\u001b[?25hCollecting amply>=0.1.2\n",
      "  Downloading amply-0.1.4-py3-none-any.whl (16 kB)\n",
      "Requirement already satisfied: pyparsing in /Users/davidchiu/.pyenv/versions/3.7.3/lib/python3.7/site-packages (from amply>=0.1.2->pulp) (2.4.7)\n",
      "Collecting docutils>=0.3\n",
      "  Downloading docutils-0.16-py2.py3-none-any.whl (548 kB)\n",
      "\u001b[K     |████████████████████████████████| 548 kB 3.0 MB/s eta 0:00:01\n",
      "\u001b[?25hInstalling collected packages: docutils, amply, pulp\n",
      "Successfully installed amply-0.1.4 docutils-0.16 pulp-2.4\n",
      "\u001b[33mWARNING: You are using pip version 20.3.3; however, version 21.0.1 is available.\n",
      "You should consider upgrading via the '/Users/davidchiu/.pyenv/versions/3.7.3/bin/python3.7 -m pip install --upgrade pip' command.\u001b[0m\n"
     ]
    }
   ],
   "source": [
    "! pip install pulp"
   ]
  },
  {
   "cell_type": "markdown",
   "metadata": {},
   "source": [
    "## 解決製造優化問題"
   ]
  },
  {
   "cell_type": "code",
   "execution_count": 2,
   "metadata": {},
   "outputs": [
    {
     "name": "stdout",
     "output_type": "stream",
     "text": [
      "65.0\n",
      "1.0\n"
     ]
    }
   ],
   "source": [
    "from pulp import *\n",
    "product1= 25\n",
    "product2=35\n",
    "\n",
    "model = LpProblem('PILLOWS',LpMaximize)\n",
    "\n",
    "X1= LpVariable('X1',0,None,'Integer')\n",
    "X2= LpVariable('X2',0,None,'Integer')\n",
    "\n",
    "model += X1 *25 +X2 *35\n",
    "model += X1* 0.3 +X2 * 0.5 <= 20\n",
    "model += X1* 0.5 +X2 * 0.5 <= 35\n",
    "model.solve()\n",
    "\n",
    "print(X1.varValue)\n",
    "print(X2.varValue)"
   ]
  },
  {
   "cell_type": "code",
   "execution_count": null,
   "metadata": {},
   "outputs": [],
   "source": []
  }
 ],
 "metadata": {
  "kernelspec": {
   "display_name": "Python 3",
   "language": "python",
   "name": "python3"
  },
  "language_info": {
   "codemirror_mode": {
    "name": "ipython",
    "version": 3
   },
   "file_extension": ".py",
   "mimetype": "text/x-python",
   "name": "python",
   "nbconvert_exporter": "python",
   "pygments_lexer": "ipython3",
   "version": "3.7.3"
  }
 },
 "nbformat": 4,
 "nbformat_minor": 4
}
