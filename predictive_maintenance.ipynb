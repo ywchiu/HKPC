{
  "nbformat": 4,
  "nbformat_minor": 0,
  "metadata": {
    "colab": {
      "name": "predictive_maintenance.ipynb",
      "provenance": [],
      "collapsed_sections": []
    },
    "kernelspec": {
      "name": "python3",
      "display_name": "Python 3"
    }
  },
  "cells": [
    {
      "cell_type": "markdown",
      "metadata": {
        "id": "Cie8abIiJHG2",
        "colab_type": "text"
      },
      "source": [
        "# 預測性維護 (Predictive maintenance)\n",
        "\n",
        "製造業面臨的一個主要的問題是，機械問題導致的生產過程延期，因而衍生巨額成本。如果能提前預測機械問題，便可以在問題發生前先便防止問題的發生，減少停機所帶來的巨大影響\n",
        "\n",
        "若能預測零件是否故障，如此可以回答**“由於某個零件故障，機器在不久的將來故障的機率是多少?”**\n"
      ]
    },
    {
      "cell_type": "markdown",
      "metadata": {
        "id": "hA-jsF6ziF3I",
        "colab_type": "text"
      },
      "source": [
        "## 下載檔案"
      ]
    },
    {
      "cell_type": "code",
      "metadata": {
        "id": "Y6UKAENGhT1f",
        "colab_type": "code",
        "colab": {
          "base_uri": "https://localhost:8080/",
          "height": 86
        },
        "outputId": "52a17922-2026-4dcb-be27-c8ab0808c1dc"
      },
      "source": [
        "! gdown https://drive.google.com/uc?id=1Jd3Uva99-5pOIEtVUrK27S8B-gWn6pkl"
      ],
      "execution_count": 19,
      "outputs": [
        {
          "output_type": "stream",
          "text": [
            "Downloading...\n",
            "From: https://drive.google.com/uc?id=1Jd3Uva99-5pOIEtVUrK27S8B-gWn6pkl\n",
            "To: /content/PdM.zip\n",
            "32.4MB [00:00, 151MB/s]\n"
          ],
          "name": "stdout"
        }
      ]
    },
    {
      "cell_type": "code",
      "metadata": {
        "id": "mKVQs06MiM69",
        "colab_type": "code",
        "colab": {
          "base_uri": "https://localhost:8080/",
          "height": 52
        },
        "outputId": "a9468a41-228a-4c05-ceb9-a9758c42c7dc"
      },
      "source": [
        "! unzip PdM.zip > pdm.log"
      ],
      "execution_count": 20,
      "outputs": [
        {
          "output_type": "stream",
          "text": [
            "replace PdM/PdM_telemetry.csv? [y]es, [n]o, [A]ll, [N]one, [r]ename: n\n",
            "replace PdM/PdM_maint.csv? [y]es, [n]o, [A]ll, [N]one, [r]ename: N\n"
          ],
          "name": "stdout"
        }
      ]
    },
    {
      "cell_type": "markdown",
      "metadata": {
        "id": "bvxkyfhDiRKT",
        "colab_type": "text"
      },
      "source": [
        "## 讀取數據\n",
        "\n",
        "數據範例：\n",
        "\n",
        "- 故障歷史:機器或機器內零件的故障歷史。\n",
        "\n",
        "- 維修歷史:機器的維修歷史，如錯誤代碼、以前的維修活動或部件更換。\n",
        "\n",
        "- 機器狀況和用途:機器的運行狀況，例如從傳感器收集的數據。\n",
        "\n",
        "- 機器特徵:機器的特徵，如發動機大小、型號、位置等。\n",
        "\n",
        "- 操作者特徵:操作者的特徵，如性別、過去經歷"
      ]
    },
    {
      "cell_type": "code",
      "metadata": {
        "id": "fe4aGM3libfs",
        "colab_type": "code",
        "colab": {}
      },
      "source": [
        "import pandas as pd\n",
        "telemetry = pd.read_csv('PdM/PdM_telemetry.csv')\n",
        "errors = pd.read_csv('PdM/PdM_errors.csv')\n",
        "maint = pd.read_csv('PdM/PdM_maint.csv')\n",
        "failures = pd.read_csv('PdM/PdM_failures.csv')\n",
        "machines = pd.read_csv('PdM/PdM_machines.csv')"
      ],
      "execution_count": 1,
      "outputs": []
    },
    {
      "cell_type": "markdown",
      "metadata": {
        "id": "6iKeNoroLFk4",
        "colab_type": "text"
      },
      "source": [
        "### 遙測數據 (telemetry)\n",
        "\n",
        "遙測時間序列數據，每小時採集的100台機器實時平均的電壓、旋轉、壓力和振動測量數據"
      ]
    },
    {
      "cell_type": "code",
      "metadata": {
        "id": "pAC78IVfigu-",
        "colab_type": "code",
        "colab": {
          "base_uri": "https://localhost:8080/",
          "height": 409
        },
        "outputId": "fedb660d-36bb-4587-8f5e-ff6b1ca3bc41"
      },
      "source": [
        "telemetry['datetime'] = pd.to_datetime(telemetry['datetime'], format=\"%Y-%m-%d %H:%M:%S\")\n",
        "\n",
        "print('總數據量: {} '.format(len(telemetry)))\n",
        "print(telemetry.head())\n",
        "telemetry.describe()"
      ],
      "execution_count": 2,
      "outputs": [
        {
          "output_type": "stream",
          "text": [
            "總數據量: 876100 \n",
            "             datetime  machineID        volt      rotate    pressure  vibration\n",
            "0 2015-01-01 06:00:00          1  176.217853  418.504078  113.077935  45.087686\n",
            "1 2015-01-01 07:00:00          1  162.879223  402.747490   95.460525  43.413973\n",
            "2 2015-01-01 08:00:00          1  170.989902  527.349825   75.237905  34.178847\n",
            "3 2015-01-01 09:00:00          1  162.462833  346.149335  109.248561  41.122144\n",
            "4 2015-01-01 10:00:00          1  157.610021  435.376873  111.886648  25.990511\n"
          ],
          "name": "stdout"
        },
        {
          "output_type": "execute_result",
          "data": {
            "text/html": [
              "<div>\n",
              "<style scoped>\n",
              "    .dataframe tbody tr th:only-of-type {\n",
              "        vertical-align: middle;\n",
              "    }\n",
              "\n",
              "    .dataframe tbody tr th {\n",
              "        vertical-align: top;\n",
              "    }\n",
              "\n",
              "    .dataframe thead th {\n",
              "        text-align: right;\n",
              "    }\n",
              "</style>\n",
              "<table border=\"1\" class=\"dataframe\">\n",
              "  <thead>\n",
              "    <tr style=\"text-align: right;\">\n",
              "      <th></th>\n",
              "      <th>machineID</th>\n",
              "      <th>volt</th>\n",
              "      <th>rotate</th>\n",
              "      <th>pressure</th>\n",
              "      <th>vibration</th>\n",
              "    </tr>\n",
              "  </thead>\n",
              "  <tbody>\n",
              "    <tr>\n",
              "      <th>count</th>\n",
              "      <td>876100.000000</td>\n",
              "      <td>876100.000000</td>\n",
              "      <td>876100.000000</td>\n",
              "      <td>876100.000000</td>\n",
              "      <td>876100.000000</td>\n",
              "    </tr>\n",
              "    <tr>\n",
              "      <th>mean</th>\n",
              "      <td>50.500000</td>\n",
              "      <td>170.777736</td>\n",
              "      <td>446.605119</td>\n",
              "      <td>100.858668</td>\n",
              "      <td>40.385007</td>\n",
              "    </tr>\n",
              "    <tr>\n",
              "      <th>std</th>\n",
              "      <td>28.866087</td>\n",
              "      <td>15.509114</td>\n",
              "      <td>52.673886</td>\n",
              "      <td>11.048679</td>\n",
              "      <td>5.370361</td>\n",
              "    </tr>\n",
              "    <tr>\n",
              "      <th>min</th>\n",
              "      <td>1.000000</td>\n",
              "      <td>97.333604</td>\n",
              "      <td>138.432075</td>\n",
              "      <td>51.237106</td>\n",
              "      <td>14.877054</td>\n",
              "    </tr>\n",
              "    <tr>\n",
              "      <th>25%</th>\n",
              "      <td>25.750000</td>\n",
              "      <td>160.304927</td>\n",
              "      <td>412.305714</td>\n",
              "      <td>93.498181</td>\n",
              "      <td>36.777299</td>\n",
              "    </tr>\n",
              "    <tr>\n",
              "      <th>50%</th>\n",
              "      <td>50.500000</td>\n",
              "      <td>170.607338</td>\n",
              "      <td>447.558150</td>\n",
              "      <td>100.425559</td>\n",
              "      <td>40.237247</td>\n",
              "    </tr>\n",
              "    <tr>\n",
              "      <th>75%</th>\n",
              "      <td>75.250000</td>\n",
              "      <td>181.004493</td>\n",
              "      <td>482.176600</td>\n",
              "      <td>107.555231</td>\n",
              "      <td>43.784938</td>\n",
              "    </tr>\n",
              "    <tr>\n",
              "      <th>max</th>\n",
              "      <td>100.000000</td>\n",
              "      <td>255.124717</td>\n",
              "      <td>695.020984</td>\n",
              "      <td>185.951998</td>\n",
              "      <td>76.791072</td>\n",
              "    </tr>\n",
              "  </tbody>\n",
              "</table>\n",
              "</div>"
            ],
            "text/plain": [
              "           machineID           volt  ...       pressure      vibration\n",
              "count  876100.000000  876100.000000  ...  876100.000000  876100.000000\n",
              "mean       50.500000     170.777736  ...     100.858668      40.385007\n",
              "std        28.866087      15.509114  ...      11.048679       5.370361\n",
              "min         1.000000      97.333604  ...      51.237106      14.877054\n",
              "25%        25.750000     160.304927  ...      93.498181      36.777299\n",
              "50%        50.500000     170.607338  ...     100.425559      40.237247\n",
              "75%        75.250000     181.004493  ...     107.555231      43.784938\n",
              "max       100.000000     255.124717  ...     185.951998      76.791072\n",
              "\n",
              "[8 rows x 5 columns]"
            ]
          },
          "metadata": {
            "tags": []
          },
          "execution_count": 2
        }
      ]
    },
    {
      "cell_type": "markdown",
      "metadata": {
        "id": "hwIGRfd0L-Qj",
        "colab_type": "text"
      },
      "source": [
        "檢視機器一的電壓變化"
      ]
    },
    {
      "cell_type": "code",
      "metadata": {
        "id": "4Hr03s9cLp1-",
        "colab_type": "code",
        "colab": {
          "base_uri": "https://localhost:8080/",
          "height": 460
        },
        "outputId": "418a5d3f-92b2-414a-c313-dc040363d2d6"
      },
      "source": [
        "import matplotlib.pyplot as plt\n",
        "import seaborn as sns\n",
        "\n",
        "plot_df = telemetry.loc[(telemetry['machineID'] == 1) &\n",
        "                        (telemetry['datetime'] > pd.to_datetime('2015-01-01')) &\n",
        "                        (telemetry['datetime'] < pd.to_datetime('2015-02-01')), \n",
        "                        ['datetime', 'volt']]\n",
        "\n",
        "plt.figure(figsize=(12, 6))\n",
        "plt.plot(plot_df['datetime'], plot_df['volt'])\n",
        "plt.ylabel('voltage')\n",
        "plt.xlabel('Date')"
      ],
      "execution_count": 3,
      "outputs": [
        {
          "output_type": "stream",
          "text": [
            "/usr/local/lib/python3.6/dist-packages/statsmodels/tools/_testing.py:19: FutureWarning: pandas.util.testing is deprecated. Use the functions in the public API at pandas.testing instead.\n",
            "  import pandas.util.testing as tm\n"
          ],
          "name": "stderr"
        },
        {
          "output_type": "execute_result",
          "data": {
            "text/plain": [
              "Text(0.5, 0, 'Date')"
            ]
          },
          "metadata": {
            "tags": []
          },
          "execution_count": 3
        },
        {
          "output_type": "display_data",
          "data": {
            "image/png": "[encoded data removed]",
            "text/plain": [
              "<Figure size 864x432 with 1 Axes>"
            ]
          },
          "metadata": {
            "tags": [],
            "needs_background": "light"
          }
        }
      ]
    },
    {
      "cell_type": "markdown",
      "metadata": {
        "id": "J_5tRcS0MNLl",
        "colab_type": "text"
      },
      "source": [
        "### 錯誤日誌 (errors)\n",
        "第二個主要數據源是錯誤日誌。這些是在機器仍在運行時拋出的非中斷錯誤，並不構成故障 (failure)"
      ]
    },
    {
      "cell_type": "code",
      "metadata": {
        "id": "a0QKSOIkijoF",
        "colab_type": "code",
        "colab": {
          "base_uri": "https://localhost:8080/",
          "height": 215
        },
        "outputId": "cb27d5b7-3dfa-46da-bab3-db79d83aeb41"
      },
      "source": [
        "errors['datetime'] = pd.to_datetime(errors['datetime'], format=\"%Y-%m-%d %H:%M:%S\")\n",
        "errors['errorID'] = errors['errorID'].astype('category')\n",
        "\n",
        "print('總數據量: {}'.format(len(errors)))\n",
        "errors.head()"
      ],
      "execution_count": 4,
      "outputs": [
        {
          "output_type": "stream",
          "text": [
            "總數據量: 3919\n"
          ],
          "name": "stdout"
        },
        {
          "output_type": "execute_result",
          "data": {
            "text/html": [
              "<div>\n",
              "<style scoped>\n",
              "    .dataframe tbody tr th:only-of-type {\n",
              "        vertical-align: middle;\n",
              "    }\n",
              "\n",
              "    .dataframe tbody tr th {\n",
              "        vertical-align: top;\n",
              "    }\n",
              "\n",
              "    .dataframe thead th {\n",
              "        text-align: right;\n",
              "    }\n",
              "</style>\n",
              "<table border=\"1\" class=\"dataframe\">\n",
              "  <thead>\n",
              "    <tr style=\"text-align: right;\">\n",
              "      <th></th>\n",
              "      <th>datetime</th>\n",
              "      <th>machineID</th>\n",
              "      <th>errorID</th>\n",
              "    </tr>\n",
              "  </thead>\n",
              "  <tbody>\n",
              "    <tr>\n",
              "      <th>0</th>\n",
              "      <td>2015-01-03 07:00:00</td>\n",
              "      <td>1</td>\n",
              "      <td>error1</td>\n",
              "    </tr>\n",
              "    <tr>\n",
              "      <th>1</th>\n",
              "      <td>2015-01-03 20:00:00</td>\n",
              "      <td>1</td>\n",
              "      <td>error3</td>\n",
              "    </tr>\n",
              "    <tr>\n",
              "      <th>2</th>\n",
              "      <td>2015-01-04 06:00:00</td>\n",
              "      <td>1</td>\n",
              "      <td>error5</td>\n",
              "    </tr>\n",
              "    <tr>\n",
              "      <th>3</th>\n",
              "      <td>2015-01-10 15:00:00</td>\n",
              "      <td>1</td>\n",
              "      <td>error4</td>\n",
              "    </tr>\n",
              "    <tr>\n",
              "      <th>4</th>\n",
              "      <td>2015-01-22 10:00:00</td>\n",
              "      <td>1</td>\n",
              "      <td>error4</td>\n",
              "    </tr>\n",
              "  </tbody>\n",
              "</table>\n",
              "</div>"
            ],
            "text/plain": [
              "             datetime  machineID errorID\n",
              "0 2015-01-03 07:00:00          1  error1\n",
              "1 2015-01-03 20:00:00          1  error3\n",
              "2 2015-01-04 06:00:00          1  error5\n",
              "3 2015-01-10 15:00:00          1  error4\n",
              "4 2015-01-22 10:00:00          1  error4"
            ]
          },
          "metadata": {
            "tags": []
          },
          "execution_count": 4
        }
      ]
    },
    {
      "cell_type": "code",
      "metadata": {
        "id": "6zUA_VfNNLPg",
        "colab_type": "code",
        "colab": {
          "base_uri": "https://localhost:8080/",
          "height": 304
        },
        "outputId": "8ba08e5f-1e63-4024-93ce-a3bc12ef4c7a"
      },
      "source": [
        "plt.figure(figsize=(8, 4))\n",
        "errors['errorID'].value_counts().plot(kind='bar')\n",
        "plt.ylabel('Count')"
      ],
      "execution_count": 5,
      "outputs": [
        {
          "output_type": "execute_result",
          "data": {
            "text/plain": [
              "Text(0, 0.5, 'Count')"
            ]
          },
          "metadata": {
            "tags": []
          },
          "execution_count": 5
        },
        {
          "output_type": "display_data",
          "data": {
            "image/png": "[encoded data removed]",
            "text/plain": [
              "<Figure size 576x288 with 1 Axes>"
            ]
          },
          "metadata": {
            "tags": [],
            "needs_background": "light"
          }
        }
      ]
    },
    {
      "cell_type": "markdown",
      "metadata": {
        "id": "YouSRo8LM7o0",
        "colab_type": "text"
      },
      "source": [
        "### 維護 (maint)\n",
        "\n",
        "這些是定期和非定期的維護記錄，它們與零件定期檢查和故障記錄相對應。如果某個零件在計劃檢查期間被替換或由於故障而被替換，則會生成一個記錄。由於故障而創建的記錄將稱為故障。"
      ]
    },
    {
      "cell_type": "code",
      "metadata": {
        "id": "Ks9cWrR7imBl",
        "colab_type": "code",
        "colab": {
          "base_uri": "https://localhost:8080/",
          "height": 215
        },
        "outputId": "874178ee-02b3-4c0c-c0f3-16b297063e30"
      },
      "source": [
        "maint['datetime'] = pd.to_datetime(maint['datetime'], format=\"%Y-%m-%d %H:%M:%S\")\n",
        "maint['comp'] = maint['comp'].astype('category')\n",
        "\n",
        "print('總數據量: {}'.format(len(maint)))\n",
        "maint.head()"
      ],
      "execution_count": 6,
      "outputs": [
        {
          "output_type": "stream",
          "text": [
            "總數據量: 3286\n"
          ],
          "name": "stdout"
        },
        {
          "output_type": "execute_result",
          "data": {
            "text/html": [
              "<div>\n",
              "<style scoped>\n",
              "    .dataframe tbody tr th:only-of-type {\n",
              "        vertical-align: middle;\n",
              "    }\n",
              "\n",
              "    .dataframe tbody tr th {\n",
              "        vertical-align: top;\n",
              "    }\n",
              "\n",
              "    .dataframe thead th {\n",
              "        text-align: right;\n",
              "    }\n",
              "</style>\n",
              "<table border=\"1\" class=\"dataframe\">\n",
              "  <thead>\n",
              "    <tr style=\"text-align: right;\">\n",
              "      <th></th>\n",
              "      <th>datetime</th>\n",
              "      <th>machineID</th>\n",
              "      <th>comp</th>\n",
              "    </tr>\n",
              "  </thead>\n",
              "  <tbody>\n",
              "    <tr>\n",
              "      <th>0</th>\n",
              "      <td>2014-06-01 06:00:00</td>\n",
              "      <td>1</td>\n",
              "      <td>comp2</td>\n",
              "    </tr>\n",
              "    <tr>\n",
              "      <th>1</th>\n",
              "      <td>2014-07-16 06:00:00</td>\n",
              "      <td>1</td>\n",
              "      <td>comp4</td>\n",
              "    </tr>\n",
              "    <tr>\n",
              "      <th>2</th>\n",
              "      <td>2014-07-31 06:00:00</td>\n",
              "      <td>1</td>\n",
              "      <td>comp3</td>\n",
              "    </tr>\n",
              "    <tr>\n",
              "      <th>3</th>\n",
              "      <td>2014-12-13 06:00:00</td>\n",
              "      <td>1</td>\n",
              "      <td>comp1</td>\n",
              "    </tr>\n",
              "    <tr>\n",
              "      <th>4</th>\n",
              "      <td>2015-01-05 06:00:00</td>\n",
              "      <td>1</td>\n",
              "      <td>comp4</td>\n",
              "    </tr>\n",
              "  </tbody>\n",
              "</table>\n",
              "</div>"
            ],
            "text/plain": [
              "             datetime  machineID   comp\n",
              "0 2014-06-01 06:00:00          1  comp2\n",
              "1 2014-07-16 06:00:00          1  comp4\n",
              "2 2014-07-31 06:00:00          1  comp3\n",
              "3 2014-12-13 06:00:00          1  comp1\n",
              "4 2015-01-05 06:00:00          1  comp4"
            ]
          },
          "metadata": {
            "tags": []
          },
          "execution_count": 6
        }
      ]
    },
    {
      "cell_type": "code",
      "metadata": {
        "id": "O9KPs2ktNC7N",
        "colab_type": "code",
        "colab": {
          "base_uri": "https://localhost:8080/",
          "height": 306
        },
        "outputId": "2bb630f0-cd2d-43fd-bd13-23aa119d30ec"
      },
      "source": [
        "plt.figure(figsize=(8, 4))\n",
        "maint['comp'].value_counts().plot(kind='bar')\n",
        "plt.ylabel('Count')"
      ],
      "execution_count": 7,
      "outputs": [
        {
          "output_type": "execute_result",
          "data": {
            "text/plain": [
              "Text(0, 0.5, 'Count')"
            ]
          },
          "metadata": {
            "tags": []
          },
          "execution_count": 7
        },
        {
          "output_type": "display_data",
          "data": {
            "image/png": "[encoded data removed]",
            "text/plain": [
              "<Figure size 576x288 with 1 Axes>"
            ]
          },
          "metadata": {
            "tags": [],
            "needs_background": "light"
          }
        }
      ]
    },
    {
      "cell_type": "markdown",
      "metadata": {
        "id": "KuW5c95VNuug",
        "colab_type": "text"
      },
      "source": [
        "### 機器 (machines)\n",
        "此數據集包括有關機器的一些信息:模型類型和使用年限"
      ]
    },
    {
      "cell_type": "code",
      "metadata": {
        "id": "DbRCuDEUisQA",
        "colab_type": "code",
        "colab": {
          "base_uri": "https://localhost:8080/",
          "height": 405
        },
        "outputId": "44b0844c-e9b8-46c4-a28a-d4f6961650c4"
      },
      "source": [
        "plt.figure(figsize=(8, 6))\n",
        "_, bins, _ = plt.hist([machines.loc[machines['model'] == 'model1', 'age'],\n",
        "                       machines.loc[machines['model'] == 'model2', 'age'],\n",
        "                       machines.loc[machines['model'] == 'model3', 'age'],\n",
        "                       machines.loc[machines['model'] == 'model4', 'age']],\n",
        "                       20, stacked=True, label=['model1', 'model2', 'model3', 'model4'])\n",
        "plt.xlabel('Age (yrs)')\n",
        "plt.ylabel('Count')\n",
        "plt.legend()"
      ],
      "execution_count": 8,
      "outputs": [
        {
          "output_type": "execute_result",
          "data": {
            "text/plain": [
              "<matplotlib.legend.Legend at 0x7f352b448470>"
            ]
          },
          "metadata": {
            "tags": []
          },
          "execution_count": 8
        },
        {
          "output_type": "display_data",
          "data": {
            "image/png": "[encoded data removed]",
            "text/plain": [
              "<Figure size 576x432 with 1 Axes>"
            ]
          },
          "metadata": {
            "tags": [],
            "needs_background": "light"
          }
        }
      ]
    },
    {
      "cell_type": "markdown",
      "metadata": {
        "id": "R2XzTVpUOSAG",
        "colab_type": "text"
      },
      "source": [
        "### 故障 (failures)\n",
        "\n",
        "這些是由於故障而更換零件的記錄。每個記錄都有日期和時間、機器ID和失敗的零件類型。"
      ]
    },
    {
      "cell_type": "code",
      "metadata": {
        "id": "ss0pJ3SrK8_7",
        "colab_type": "code",
        "colab": {
          "base_uri": "https://localhost:8080/",
          "height": 215
        },
        "outputId": "828f7d35-0b82-4732-a152-1b7ccaf8cffe"
      },
      "source": [
        "failures['datetime'] = pd.to_datetime(failures['datetime'], format=\"%Y-%m-%d %H:%M:%S\")\n",
        "failures['failure'] = failures['failure'].astype('category')\n",
        "\n",
        "print('總數據量: {}'.format(len(failures)))\n",
        "failures.head()"
      ],
      "execution_count": 9,
      "outputs": [
        {
          "output_type": "stream",
          "text": [
            "總數據量: 761\n"
          ],
          "name": "stdout"
        },
        {
          "output_type": "execute_result",
          "data": {
            "text/html": [
              "<div>\n",
              "<style scoped>\n",
              "    .dataframe tbody tr th:only-of-type {\n",
              "        vertical-align: middle;\n",
              "    }\n",
              "\n",
              "    .dataframe tbody tr th {\n",
              "        vertical-align: top;\n",
              "    }\n",
              "\n",
              "    .dataframe thead th {\n",
              "        text-align: right;\n",
              "    }\n",
              "</style>\n",
              "<table border=\"1\" class=\"dataframe\">\n",
              "  <thead>\n",
              "    <tr style=\"text-align: right;\">\n",
              "      <th></th>\n",
              "      <th>datetime</th>\n",
              "      <th>machineID</th>\n",
              "      <th>failure</th>\n",
              "    </tr>\n",
              "  </thead>\n",
              "  <tbody>\n",
              "    <tr>\n",
              "      <th>0</th>\n",
              "      <td>2015-01-05 06:00:00</td>\n",
              "      <td>1</td>\n",
              "      <td>comp4</td>\n",
              "    </tr>\n",
              "    <tr>\n",
              "      <th>1</th>\n",
              "      <td>2015-03-06 06:00:00</td>\n",
              "      <td>1</td>\n",
              "      <td>comp1</td>\n",
              "    </tr>\n",
              "    <tr>\n",
              "      <th>2</th>\n",
              "      <td>2015-04-20 06:00:00</td>\n",
              "      <td>1</td>\n",
              "      <td>comp2</td>\n",
              "    </tr>\n",
              "    <tr>\n",
              "      <th>3</th>\n",
              "      <td>2015-06-19 06:00:00</td>\n",
              "      <td>1</td>\n",
              "      <td>comp4</td>\n",
              "    </tr>\n",
              "    <tr>\n",
              "      <th>4</th>\n",
              "      <td>2015-09-02 06:00:00</td>\n",
              "      <td>1</td>\n",
              "      <td>comp4</td>\n",
              "    </tr>\n",
              "  </tbody>\n",
              "</table>\n",
              "</div>"
            ],
            "text/plain": [
              "             datetime  machineID failure\n",
              "0 2015-01-05 06:00:00          1   comp4\n",
              "1 2015-03-06 06:00:00          1   comp1\n",
              "2 2015-04-20 06:00:00          1   comp2\n",
              "3 2015-06-19 06:00:00          1   comp4\n",
              "4 2015-09-02 06:00:00          1   comp4"
            ]
          },
          "metadata": {
            "tags": []
          },
          "execution_count": 9
        }
      ]
    },
    {
      "cell_type": "code",
      "metadata": {
        "id": "EvM3V6ErOWNG",
        "colab_type": "code",
        "colab": {
          "base_uri": "https://localhost:8080/",
          "height": 306
        },
        "outputId": "71a29a75-0e81-4ef9-abe9-63c8f4e90662"
      },
      "source": [
        "plt.figure(figsize=(8, 4))\n",
        "failures['failure'].value_counts().plot(kind='bar')\n",
        "plt.ylabel('Count')"
      ],
      "execution_count": 10,
      "outputs": [
        {
          "output_type": "execute_result",
          "data": {
            "text/plain": [
              "Text(0, 0.5, 'Count')"
            ]
          },
          "metadata": {
            "tags": []
          },
          "execution_count": 10
        },
        {
          "output_type": "display_data",
          "data": {
            "image/png": "[encoded data removed]",
            "text/plain": [
              "<Figure size 576x288 with 1 Axes>"
            ]
          },
          "metadata": {
            "tags": [],
            "needs_background": "light"
          }
        }
      ]
    },
    {
      "cell_type": "markdown",
      "metadata": {
        "id": "iYvutwLMOb2e",
        "colab_type": "text"
      },
      "source": [
        "## 特徵工程\n",
        "\n",
        "預測性維護應用程序的第一步是特徵工程，它需要整合不同的數據源，以建立能夠在最佳描述機器健康狀況的特徵。"
      ]
    },
    {
      "cell_type": "markdown",
      "metadata": {
        "id": "B1sGeO7414uh",
        "colab_type": "text"
      },
      "source": [
        "### 取出 telemetry 特徵"
      ]
    },
    {
      "cell_type": "code",
      "metadata": {
        "id": "7HlIJu85OZTG",
        "colab_type": "code",
        "colab": {
          "base_uri": "https://localhost:8080/",
          "height": 138
        },
        "outputId": "3cf29846-da74-4f11-bb85-c81d75c372ff"
      },
      "source": [
        "# 計算每三小時平均值\n",
        "temp = []\n",
        "fields = ['volt', 'rotate', 'pressure', 'vibration']\n",
        "for col in fields:\n",
        "    temp.append(pd.pivot_table(telemetry,\n",
        "                               index='datetime',\n",
        "                               columns='machineID',\n",
        "                               values=col).resample('3H', closed='left', label='right').mean().unstack())\n",
        "telemetry_mean_3h = pd.concat(temp, axis=1)\n",
        "telemetry_mean_3h.columns = [i + 'mean_3h' for i in fields]\n",
        "telemetry_mean_3h.reset_index(inplace=True)\n",
        "\n",
        "telemetry_mean_3h.head(3)"
      ],
      "execution_count": 11,
      "outputs": [
        {
          "output_type": "execute_result",
          "data": {
            "text/html": [
              "<div>\n",
              "<style scoped>\n",
              "    .dataframe tbody tr th:only-of-type {\n",
              "        vertical-align: middle;\n",
              "    }\n",
              "\n",
              "    .dataframe tbody tr th {\n",
              "        vertical-align: top;\n",
              "    }\n",
              "\n",
              "    .dataframe thead th {\n",
              "        text-align: right;\n",
              "    }\n",
              "</style>\n",
              "<table border=\"1\" class=\"dataframe\">\n",
              "  <thead>\n",
              "    <tr style=\"text-align: right;\">\n",
              "      <th></th>\n",
              "      <th>machineID</th>\n",
              "      <th>datetime</th>\n",
              "      <th>voltmean_3h</th>\n",
              "      <th>rotatemean_3h</th>\n",
              "      <th>pressuremean_3h</th>\n",
              "      <th>vibrationmean_3h</th>\n",
              "    </tr>\n",
              "  </thead>\n",
              "  <tbody>\n",
              "    <tr>\n",
              "      <th>0</th>\n",
              "      <td>1</td>\n",
              "      <td>2015-01-01 09:00:00</td>\n",
              "      <td>170.028993</td>\n",
              "      <td>449.533798</td>\n",
              "      <td>94.592122</td>\n",
              "      <td>40.893502</td>\n",
              "    </tr>\n",
              "    <tr>\n",
              "      <th>1</th>\n",
              "      <td>1</td>\n",
              "      <td>2015-01-01 12:00:00</td>\n",
              "      <td>164.192565</td>\n",
              "      <td>403.949857</td>\n",
              "      <td>105.687417</td>\n",
              "      <td>34.255891</td>\n",
              "    </tr>\n",
              "    <tr>\n",
              "      <th>2</th>\n",
              "      <td>1</td>\n",
              "      <td>2015-01-01 15:00:00</td>\n",
              "      <td>168.134445</td>\n",
              "      <td>435.781707</td>\n",
              "      <td>107.793709</td>\n",
              "      <td>41.239405</td>\n",
              "    </tr>\n",
              "  </tbody>\n",
              "</table>\n",
              "</div>"
            ],
            "text/plain": [
              "   machineID            datetime  ...  pressuremean_3h  vibrationmean_3h\n",
              "0          1 2015-01-01 09:00:00  ...        94.592122         40.893502\n",
              "1          1 2015-01-01 12:00:00  ...       105.687417         34.255891\n",
              "2          1 2015-01-01 15:00:00  ...       107.793709         41.239405\n",
              "\n",
              "[3 rows x 6 columns]"
            ]
          },
          "metadata": {
            "tags": []
          },
          "execution_count": 11
        }
      ]
    },
    {
      "cell_type": "code",
      "metadata": {
        "id": "oFyv5dgDxG6d",
        "colab_type": "code",
        "colab": {
          "base_uri": "https://localhost:8080/",
          "height": 138
        },
        "outputId": "0075742a-d941-4724-93d1-c575d98895a8"
      },
      "source": [
        "# 計算每三小時標準差\n",
        "temp = []\n",
        "for col in fields:\n",
        "    temp.append(pd.pivot_table(telemetry,\n",
        "                               index='datetime',\n",
        "                               columns='machineID',\n",
        "                               values=col).resample('3H', closed='left', label='right').std().unstack())\n",
        "telemetry_sd_3h = pd.concat(temp, axis=1)\n",
        "telemetry_sd_3h.columns = [i + 'sd_3h' for i in fields]\n",
        "telemetry_sd_3h.reset_index(inplace=True)\n",
        "\n",
        "telemetry_sd_3h.head(3)"
      ],
      "execution_count": 12,
      "outputs": [
        {
          "output_type": "execute_result",
          "data": {
            "text/html": [
              "<div>\n",
              "<style scoped>\n",
              "    .dataframe tbody tr th:only-of-type {\n",
              "        vertical-align: middle;\n",
              "    }\n",
              "\n",
              "    .dataframe tbody tr th {\n",
              "        vertical-align: top;\n",
              "    }\n",
              "\n",
              "    .dataframe thead th {\n",
              "        text-align: right;\n",
              "    }\n",
              "</style>\n",
              "<table border=\"1\" class=\"dataframe\">\n",
              "  <thead>\n",
              "    <tr style=\"text-align: right;\">\n",
              "      <th></th>\n",
              "      <th>machineID</th>\n",
              "      <th>datetime</th>\n",
              "      <th>voltsd_3h</th>\n",
              "      <th>rotatesd_3h</th>\n",
              "      <th>pressuresd_3h</th>\n",
              "      <th>vibrationsd_3h</th>\n",
              "    </tr>\n",
              "  </thead>\n",
              "  <tbody>\n",
              "    <tr>\n",
              "      <th>0</th>\n",
              "      <td>1</td>\n",
              "      <td>2015-01-01 09:00:00</td>\n",
              "      <td>6.721032</td>\n",
              "      <td>67.849599</td>\n",
              "      <td>18.934956</td>\n",
              "      <td>5.874970</td>\n",
              "    </tr>\n",
              "    <tr>\n",
              "      <th>1</th>\n",
              "      <td>1</td>\n",
              "      <td>2015-01-01 12:00:00</td>\n",
              "      <td>7.596570</td>\n",
              "      <td>50.120452</td>\n",
              "      <td>8.555032</td>\n",
              "      <td>7.662229</td>\n",
              "    </tr>\n",
              "    <tr>\n",
              "      <th>2</th>\n",
              "      <td>1</td>\n",
              "      <td>2015-01-01 15:00:00</td>\n",
              "      <td>10.124584</td>\n",
              "      <td>55.084734</td>\n",
              "      <td>5.909721</td>\n",
              "      <td>5.169304</td>\n",
              "    </tr>\n",
              "  </tbody>\n",
              "</table>\n",
              "</div>"
            ],
            "text/plain": [
              "   machineID            datetime  ...  pressuresd_3h  vibrationsd_3h\n",
              "0          1 2015-01-01 09:00:00  ...      18.934956        5.874970\n",
              "1          1 2015-01-01 12:00:00  ...       8.555032        7.662229\n",
              "2          1 2015-01-01 15:00:00  ...       5.909721        5.169304\n",
              "\n",
              "[3 rows x 6 columns]"
            ]
          },
          "metadata": {
            "tags": []
          },
          "execution_count": 12
        }
      ]
    },
    {
      "cell_type": "code",
      "metadata": {
        "id": "SubEH6I9Ox3a",
        "colab_type": "code",
        "colab": {
          "base_uri": "https://localhost:8080/",
          "height": 138
        },
        "outputId": "ca1645d2-2ce9-48df-8b78-01a02c6a47f3"
      },
      "source": [
        "# 計算每24小時平均值\n",
        "temp = []\n",
        "fields = ['volt', 'rotate', 'pressure', 'vibration']\n",
        "for col in fields:\n",
        "    temp.append(pd.pivot_table(telemetry,\n",
        "                               index='datetime',\n",
        "                               columns='machineID',\n",
        "                               values=col).rolling(window=24).mean().resample('3H',\n",
        "                                                                              closed='left',\n",
        "                                                                              label='right').first().unstack())\n",
        "telemetry_mean_24h = pd.concat(temp, axis=1)\n",
        "telemetry_mean_24h.columns = [i + 'mean_24h' for i in fields]\n",
        "telemetry_mean_24h.reset_index(inplace=True)\n",
        "telemetry_mean_24h = telemetry_mean_24h.loc[-telemetry_mean_24h['voltmean_24h'].isnull()]\n",
        "telemetry_mean_24h.head(3)"
      ],
      "execution_count": 13,
      "outputs": [
        {
          "output_type": "execute_result",
          "data": {
            "text/html": [
              "<div>\n",
              "<style scoped>\n",
              "    .dataframe tbody tr th:only-of-type {\n",
              "        vertical-align: middle;\n",
              "    }\n",
              "\n",
              "    .dataframe tbody tr th {\n",
              "        vertical-align: top;\n",
              "    }\n",
              "\n",
              "    .dataframe thead th {\n",
              "        text-align: right;\n",
              "    }\n",
              "</style>\n",
              "<table border=\"1\" class=\"dataframe\">\n",
              "  <thead>\n",
              "    <tr style=\"text-align: right;\">\n",
              "      <th></th>\n",
              "      <th>machineID</th>\n",
              "      <th>datetime</th>\n",
              "      <th>voltmean_24h</th>\n",
              "      <th>rotatemean_24h</th>\n",
              "      <th>pressuremean_24h</th>\n",
              "      <th>vibrationmean_24h</th>\n",
              "    </tr>\n",
              "  </thead>\n",
              "  <tbody>\n",
              "    <tr>\n",
              "      <th>7</th>\n",
              "      <td>1</td>\n",
              "      <td>2015-01-02 06:00:00</td>\n",
              "      <td>169.733809</td>\n",
              "      <td>445.179865</td>\n",
              "      <td>96.797113</td>\n",
              "      <td>40.385160</td>\n",
              "    </tr>\n",
              "    <tr>\n",
              "      <th>8</th>\n",
              "      <td>1</td>\n",
              "      <td>2015-01-02 09:00:00</td>\n",
              "      <td>170.614862</td>\n",
              "      <td>446.364859</td>\n",
              "      <td>96.849785</td>\n",
              "      <td>39.736826</td>\n",
              "    </tr>\n",
              "    <tr>\n",
              "      <th>9</th>\n",
              "      <td>1</td>\n",
              "      <td>2015-01-02 12:00:00</td>\n",
              "      <td>169.893965</td>\n",
              "      <td>447.009407</td>\n",
              "      <td>97.715600</td>\n",
              "      <td>39.498374</td>\n",
              "    </tr>\n",
              "  </tbody>\n",
              "</table>\n",
              "</div>"
            ],
            "text/plain": [
              "   machineID            datetime  ...  pressuremean_24h  vibrationmean_24h\n",
              "7          1 2015-01-02 06:00:00  ...         96.797113          40.385160\n",
              "8          1 2015-01-02 09:00:00  ...         96.849785          39.736826\n",
              "9          1 2015-01-02 12:00:00  ...         97.715600          39.498374\n",
              "\n",
              "[3 rows x 6 columns]"
            ]
          },
          "metadata": {
            "tags": []
          },
          "execution_count": 13
        }
      ]
    },
    {
      "cell_type": "code",
      "metadata": {
        "id": "OGxGjy_Mxzd6",
        "colab_type": "code",
        "colab": {
          "base_uri": "https://localhost:8080/",
          "height": 198
        },
        "outputId": "727d09e1-46f9-442f-dbc9-330793ff63f6"
      },
      "source": [
        "# 計算每24小標準差\n",
        "temp = []\n",
        "fields = ['volt', 'rotate', 'pressure', 'vibration']\n",
        "for col in fields:\n",
        "    temp.append(pd.pivot_table(telemetry,\n",
        "                               index='datetime',\n",
        "                               columns='machineID',\n",
        "                               values=col).rolling(window=24).std().resample('3H',\n",
        "                                                                             closed='left',\n",
        "                                                                             label='right').first().unstack())\n",
        "telemetry_sd_24h = pd.concat(temp, axis=1)\n",
        "telemetry_sd_24h.columns = [i + 'sd_24h' for i in fields]\n",
        "telemetry_sd_24h.reset_index(inplace=True)\n",
        "telemetry_sd_24h = telemetry_sd_24h.loc[-telemetry_sd_24h['voltsd_24h'].isnull()]\n",
        "telemetry_sd_24h.head()"
      ],
      "execution_count": 14,
      "outputs": [
        {
          "output_type": "execute_result",
          "data": {
            "text/html": [
              "<div>\n",
              "<style scoped>\n",
              "    .dataframe tbody tr th:only-of-type {\n",
              "        vertical-align: middle;\n",
              "    }\n",
              "\n",
              "    .dataframe tbody tr th {\n",
              "        vertical-align: top;\n",
              "    }\n",
              "\n",
              "    .dataframe thead th {\n",
              "        text-align: right;\n",
              "    }\n",
              "</style>\n",
              "<table border=\"1\" class=\"dataframe\">\n",
              "  <thead>\n",
              "    <tr style=\"text-align: right;\">\n",
              "      <th></th>\n",
              "      <th>machineID</th>\n",
              "      <th>datetime</th>\n",
              "      <th>voltsd_24h</th>\n",
              "      <th>rotatesd_24h</th>\n",
              "      <th>pressuresd_24h</th>\n",
              "      <th>vibrationsd_24h</th>\n",
              "    </tr>\n",
              "  </thead>\n",
              "  <tbody>\n",
              "    <tr>\n",
              "      <th>7</th>\n",
              "      <td>1</td>\n",
              "      <td>2015-01-02 06:00:00</td>\n",
              "      <td>11.233120</td>\n",
              "      <td>48.717395</td>\n",
              "      <td>10.079880</td>\n",
              "      <td>5.853209</td>\n",
              "    </tr>\n",
              "    <tr>\n",
              "      <th>8</th>\n",
              "      <td>1</td>\n",
              "      <td>2015-01-02 09:00:00</td>\n",
              "      <td>12.519402</td>\n",
              "      <td>48.385076</td>\n",
              "      <td>10.171540</td>\n",
              "      <td>6.163231</td>\n",
              "    </tr>\n",
              "    <tr>\n",
              "      <th>9</th>\n",
              "      <td>1</td>\n",
              "      <td>2015-01-02 12:00:00</td>\n",
              "      <td>13.370357</td>\n",
              "      <td>42.432317</td>\n",
              "      <td>9.471669</td>\n",
              "      <td>6.195076</td>\n",
              "    </tr>\n",
              "    <tr>\n",
              "      <th>10</th>\n",
              "      <td>1</td>\n",
              "      <td>2015-01-02 15:00:00</td>\n",
              "      <td>13.299281</td>\n",
              "      <td>41.346121</td>\n",
              "      <td>8.731229</td>\n",
              "      <td>5.687944</td>\n",
              "    </tr>\n",
              "    <tr>\n",
              "      <th>11</th>\n",
              "      <td>1</td>\n",
              "      <td>2015-01-02 18:00:00</td>\n",
              "      <td>13.954518</td>\n",
              "      <td>43.490234</td>\n",
              "      <td>8.061653</td>\n",
              "      <td>5.898069</td>\n",
              "    </tr>\n",
              "  </tbody>\n",
              "</table>\n",
              "</div>"
            ],
            "text/plain": [
              "    machineID            datetime  ...  pressuresd_24h  vibrationsd_24h\n",
              "7           1 2015-01-02 06:00:00  ...       10.079880         5.853209\n",
              "8           1 2015-01-02 09:00:00  ...       10.171540         6.163231\n",
              "9           1 2015-01-02 12:00:00  ...        9.471669         6.195076\n",
              "10          1 2015-01-02 15:00:00  ...        8.731229         5.687944\n",
              "11          1 2015-01-02 18:00:00  ...        8.061653         5.898069\n",
              "\n",
              "[5 rows x 6 columns]"
            ]
          },
          "metadata": {
            "tags": []
          },
          "execution_count": 14
        }
      ]
    },
    {
      "cell_type": "code",
      "metadata": {
        "id": "5cFMj6GIPBmg",
        "colab_type": "code",
        "colab": {
          "base_uri": "https://localhost:8080/",
          "height": 262
        },
        "outputId": "caf8b4b6-2fef-4374-9060-ac47d9d0e36c"
      },
      "source": [
        "# 合併數據欄位\n",
        "telemetry_feat = pd.concat([telemetry_mean_3h,\n",
        "                            telemetry_sd_3h.iloc[:, 2:6],\n",
        "                            telemetry_mean_24h.iloc[:, 2:6],\n",
        "                            telemetry_sd_24h.iloc[:, 2:6]], axis=1).dropna()\n",
        "telemetry_feat.head(3)"
      ],
      "execution_count": 15,
      "outputs": [
        {
          "output_type": "execute_result",
          "data": {
            "text/html": [
              "<div>\n",
              "<style scoped>\n",
              "    .dataframe tbody tr th:only-of-type {\n",
              "        vertical-align: middle;\n",
              "    }\n",
              "\n",
              "    .dataframe tbody tr th {\n",
              "        vertical-align: top;\n",
              "    }\n",
              "\n",
              "    .dataframe thead th {\n",
              "        text-align: right;\n",
              "    }\n",
              "</style>\n",
              "<table border=\"1\" class=\"dataframe\">\n",
              "  <thead>\n",
              "    <tr style=\"text-align: right;\">\n",
              "      <th></th>\n",
              "      <th>machineID</th>\n",
              "      <th>datetime</th>\n",
              "      <th>voltmean_3h</th>\n",
              "      <th>rotatemean_3h</th>\n",
              "      <th>pressuremean_3h</th>\n",
              "      <th>vibrationmean_3h</th>\n",
              "      <th>voltsd_3h</th>\n",
              "      <th>rotatesd_3h</th>\n",
              "      <th>pressuresd_3h</th>\n",
              "      <th>vibrationsd_3h</th>\n",
              "      <th>voltmean_24h</th>\n",
              "      <th>rotatemean_24h</th>\n",
              "      <th>pressuremean_24h</th>\n",
              "      <th>vibrationmean_24h</th>\n",
              "      <th>voltsd_24h</th>\n",
              "      <th>rotatesd_24h</th>\n",
              "      <th>pressuresd_24h</th>\n",
              "      <th>vibrationsd_24h</th>\n",
              "    </tr>\n",
              "  </thead>\n",
              "  <tbody>\n",
              "    <tr>\n",
              "      <th>7</th>\n",
              "      <td>1</td>\n",
              "      <td>2015-01-02 06:00:00</td>\n",
              "      <td>180.133784</td>\n",
              "      <td>440.608320</td>\n",
              "      <td>94.137969</td>\n",
              "      <td>41.551544</td>\n",
              "      <td>21.322735</td>\n",
              "      <td>48.770512</td>\n",
              "      <td>2.135684</td>\n",
              "      <td>10.037208</td>\n",
              "      <td>169.733809</td>\n",
              "      <td>445.179865</td>\n",
              "      <td>96.797113</td>\n",
              "      <td>40.385160</td>\n",
              "      <td>11.233120</td>\n",
              "      <td>48.717395</td>\n",
              "      <td>10.079880</td>\n",
              "      <td>5.853209</td>\n",
              "    </tr>\n",
              "    <tr>\n",
              "      <th>8</th>\n",
              "      <td>1</td>\n",
              "      <td>2015-01-02 09:00:00</td>\n",
              "      <td>176.364293</td>\n",
              "      <td>439.349655</td>\n",
              "      <td>101.553209</td>\n",
              "      <td>36.105580</td>\n",
              "      <td>18.952210</td>\n",
              "      <td>51.329636</td>\n",
              "      <td>13.789279</td>\n",
              "      <td>6.737739</td>\n",
              "      <td>170.614862</td>\n",
              "      <td>446.364859</td>\n",
              "      <td>96.849785</td>\n",
              "      <td>39.736826</td>\n",
              "      <td>12.519402</td>\n",
              "      <td>48.385076</td>\n",
              "      <td>10.171540</td>\n",
              "      <td>6.163231</td>\n",
              "    </tr>\n",
              "    <tr>\n",
              "      <th>9</th>\n",
              "      <td>1</td>\n",
              "      <td>2015-01-02 12:00:00</td>\n",
              "      <td>160.384568</td>\n",
              "      <td>424.385316</td>\n",
              "      <td>99.598722</td>\n",
              "      <td>36.094637</td>\n",
              "      <td>13.047080</td>\n",
              "      <td>13.702496</td>\n",
              "      <td>9.988609</td>\n",
              "      <td>1.639962</td>\n",
              "      <td>169.893965</td>\n",
              "      <td>447.009407</td>\n",
              "      <td>97.715600</td>\n",
              "      <td>39.498374</td>\n",
              "      <td>13.370357</td>\n",
              "      <td>42.432317</td>\n",
              "      <td>9.471669</td>\n",
              "      <td>6.195076</td>\n",
              "    </tr>\n",
              "  </tbody>\n",
              "</table>\n",
              "</div>"
            ],
            "text/plain": [
              "   machineID            datetime  ...  pressuresd_24h  vibrationsd_24h\n",
              "7          1 2015-01-02 06:00:00  ...       10.079880         5.853209\n",
              "8          1 2015-01-02 09:00:00  ...       10.171540         6.163231\n",
              "9          1 2015-01-02 12:00:00  ...        9.471669         6.195076\n",
              "\n",
              "[3 rows x 18 columns]"
            ]
          },
          "metadata": {
            "tags": []
          },
          "execution_count": 15
        }
      ]
    },
    {
      "cell_type": "markdown",
      "metadata": {
        "id": "jp7vKXuw1_ke",
        "colab_type": "text"
      },
      "source": [
        "### 取出 errors 特徵"
      ]
    },
    {
      "cell_type": "code",
      "metadata": {
        "id": "ME3G7oTs1d5Q",
        "colab_type": "code",
        "colab": {
          "base_uri": "https://localhost:8080/",
          "height": 138
        },
        "outputId": "21629d25-fd4e-406e-dd68-db2ef6d7ca28"
      },
      "source": [
        "errors.head(3)"
      ],
      "execution_count": 16,
      "outputs": [
        {
          "output_type": "execute_result",
          "data": {
            "text/html": [
              "<div>\n",
              "<style scoped>\n",
              "    .dataframe tbody tr th:only-of-type {\n",
              "        vertical-align: middle;\n",
              "    }\n",
              "\n",
              "    .dataframe tbody tr th {\n",
              "        vertical-align: top;\n",
              "    }\n",
              "\n",
              "    .dataframe thead th {\n",
              "        text-align: right;\n",
              "    }\n",
              "</style>\n",
              "<table border=\"1\" class=\"dataframe\">\n",
              "  <thead>\n",
              "    <tr style=\"text-align: right;\">\n",
              "      <th></th>\n",
              "      <th>datetime</th>\n",
              "      <th>machineID</th>\n",
              "      <th>errorID</th>\n",
              "    </tr>\n",
              "  </thead>\n",
              "  <tbody>\n",
              "    <tr>\n",
              "      <th>0</th>\n",
              "      <td>2015-01-03 07:00:00</td>\n",
              "      <td>1</td>\n",
              "      <td>error1</td>\n",
              "    </tr>\n",
              "    <tr>\n",
              "      <th>1</th>\n",
              "      <td>2015-01-03 20:00:00</td>\n",
              "      <td>1</td>\n",
              "      <td>error3</td>\n",
              "    </tr>\n",
              "    <tr>\n",
              "      <th>2</th>\n",
              "      <td>2015-01-04 06:00:00</td>\n",
              "      <td>1</td>\n",
              "      <td>error5</td>\n",
              "    </tr>\n",
              "  </tbody>\n",
              "</table>\n",
              "</div>"
            ],
            "text/plain": [
              "             datetime  machineID errorID\n",
              "0 2015-01-03 07:00:00          1  error1\n",
              "1 2015-01-03 20:00:00          1  error3\n",
              "2 2015-01-04 06:00:00          1  error5"
            ]
          },
          "metadata": {
            "tags": []
          },
          "execution_count": 16
        }
      ]
    },
    {
      "cell_type": "code",
      "metadata": {
        "id": "PPZ9tqemPQLG",
        "colab_type": "code",
        "colab": {
          "base_uri": "https://localhost:8080/",
          "height": 138
        },
        "outputId": "a84115d2-0246-4e0a-8f85-d63594a07125"
      },
      "source": [
        "error_count = pd.get_dummies(errors)\n",
        "error_count.columns = ['datetime', 'machineID', 'error1', 'error2', 'error3', 'error4', 'error5']\n",
        "\n",
        "error_count = error_count.groupby(['machineID', 'datetime']).sum().reset_index()\n",
        "error_count.head(3)"
      ],
      "execution_count": 17,
      "outputs": [
        {
          "output_type": "execute_result",
          "data": {
            "text/html": [
              "<div>\n",
              "<style scoped>\n",
              "    .dataframe tbody tr th:only-of-type {\n",
              "        vertical-align: middle;\n",
              "    }\n",
              "\n",
              "    .dataframe tbody tr th {\n",
              "        vertical-align: top;\n",
              "    }\n",
              "\n",
              "    .dataframe thead th {\n",
              "        text-align: right;\n",
              "    }\n",
              "</style>\n",
              "<table border=\"1\" class=\"dataframe\">\n",
              "  <thead>\n",
              "    <tr style=\"text-align: right;\">\n",
              "      <th></th>\n",
              "      <th>machineID</th>\n",
              "      <th>datetime</th>\n",
              "      <th>error1</th>\n",
              "      <th>error2</th>\n",
              "      <th>error3</th>\n",
              "      <th>error4</th>\n",
              "      <th>error5</th>\n",
              "    </tr>\n",
              "  </thead>\n",
              "  <tbody>\n",
              "    <tr>\n",
              "      <th>0</th>\n",
              "      <td>1</td>\n",
              "      <td>2015-01-03 07:00:00</td>\n",
              "      <td>1</td>\n",
              "      <td>0</td>\n",
              "      <td>0</td>\n",
              "      <td>0</td>\n",
              "      <td>0</td>\n",
              "    </tr>\n",
              "    <tr>\n",
              "      <th>1</th>\n",
              "      <td>1</td>\n",
              "      <td>2015-01-03 20:00:00</td>\n",
              "      <td>0</td>\n",
              "      <td>0</td>\n",
              "      <td>1</td>\n",
              "      <td>0</td>\n",
              "      <td>0</td>\n",
              "    </tr>\n",
              "    <tr>\n",
              "      <th>2</th>\n",
              "      <td>1</td>\n",
              "      <td>2015-01-04 06:00:00</td>\n",
              "      <td>0</td>\n",
              "      <td>0</td>\n",
              "      <td>0</td>\n",
              "      <td>0</td>\n",
              "      <td>1</td>\n",
              "    </tr>\n",
              "  </tbody>\n",
              "</table>\n",
              "</div>"
            ],
            "text/plain": [
              "   machineID            datetime  error1  error2  error3  error4  error5\n",
              "0          1 2015-01-03 07:00:00       1       0       0       0       0\n",
              "1          1 2015-01-03 20:00:00       0       0       1       0       0\n",
              "2          1 2015-01-04 06:00:00       0       0       0       0       1"
            ]
          },
          "metadata": {
            "tags": []
          },
          "execution_count": 17
        }
      ]
    },
    {
      "cell_type": "markdown",
      "metadata": {
        "id": "yyF3FPtM2IW1",
        "colab_type": "text"
      },
      "source": [
        "### 將錯誤數量與 telemetry 合併，已取得沒有錯誤時的時間資訊"
      ]
    },
    {
      "cell_type": "code",
      "metadata": {
        "id": "rwTTwveGPaJr",
        "colab_type": "code",
        "colab": {
          "base_uri": "https://localhost:8080/",
          "height": 138
        },
        "outputId": "ef2ce112-205e-432d-e2ad-05ee4b0851d9"
      },
      "source": [
        "error_count = telemetry[['datetime', 'machineID']].merge(error_count, on=['machineID', 'datetime'], how='left').fillna(0.0)\n",
        "error_count.head(3)"
      ],
      "execution_count": 18,
      "outputs": [
        {
          "output_type": "execute_result",
          "data": {
            "text/html": [
              "<div>\n",
              "<style scoped>\n",
              "    .dataframe tbody tr th:only-of-type {\n",
              "        vertical-align: middle;\n",
              "    }\n",
              "\n",
              "    .dataframe tbody tr th {\n",
              "        vertical-align: top;\n",
              "    }\n",
              "\n",
              "    .dataframe thead th {\n",
              "        text-align: right;\n",
              "    }\n",
              "</style>\n",
              "<table border=\"1\" class=\"dataframe\">\n",
              "  <thead>\n",
              "    <tr style=\"text-align: right;\">\n",
              "      <th></th>\n",
              "      <th>datetime</th>\n",
              "      <th>machineID</th>\n",
              "      <th>error1</th>\n",
              "      <th>error2</th>\n",
              "      <th>error3</th>\n",
              "      <th>error4</th>\n",
              "      <th>error5</th>\n",
              "    </tr>\n",
              "  </thead>\n",
              "  <tbody>\n",
              "    <tr>\n",
              "      <th>0</th>\n",
              "      <td>2015-01-01 06:00:00</td>\n",
              "      <td>1</td>\n",
              "      <td>0.0</td>\n",
              "      <td>0.0</td>\n",
              "      <td>0.0</td>\n",
              "      <td>0.0</td>\n",
              "      <td>0.0</td>\n",
              "    </tr>\n",
              "    <tr>\n",
              "      <th>1</th>\n",
              "      <td>2015-01-01 07:00:00</td>\n",
              "      <td>1</td>\n",
              "      <td>0.0</td>\n",
              "      <td>0.0</td>\n",
              "      <td>0.0</td>\n",
              "      <td>0.0</td>\n",
              "      <td>0.0</td>\n",
              "    </tr>\n",
              "    <tr>\n",
              "      <th>2</th>\n",
              "      <td>2015-01-01 08:00:00</td>\n",
              "      <td>1</td>\n",
              "      <td>0.0</td>\n",
              "      <td>0.0</td>\n",
              "      <td>0.0</td>\n",
              "      <td>0.0</td>\n",
              "      <td>0.0</td>\n",
              "    </tr>\n",
              "  </tbody>\n",
              "</table>\n",
              "</div>"
            ],
            "text/plain": [
              "             datetime  machineID  error1  error2  error3  error4  error5\n",
              "0 2015-01-01 06:00:00          1     0.0     0.0     0.0     0.0     0.0\n",
              "1 2015-01-01 07:00:00          1     0.0     0.0     0.0     0.0     0.0\n",
              "2 2015-01-01 08:00:00          1     0.0     0.0     0.0     0.0     0.0"
            ]
          },
          "metadata": {
            "tags": []
          },
          "execution_count": 18
        }
      ]
    },
    {
      "cell_type": "markdown",
      "metadata": {
        "id": "KePqfGXV3LCw",
        "colab_type": "text"
      },
      "source": [
        "### 計算24 小時內的錯誤數量 (每三小時為單位)"
      ]
    },
    {
      "cell_type": "code",
      "metadata": {
        "id": "eI-KFcU5Peuy",
        "colab_type": "code",
        "colab": {
          "base_uri": "https://localhost:8080/",
          "height": 138
        },
        "outputId": "12895c7a-9e5e-4cbe-eade-6e2a0120ada9"
      },
      "source": [
        "temp = []\n",
        "fields = ['error%d' % i for i in range(1,6)]\n",
        "for col in fields:\n",
        "    temp.append(pd.pivot_table(error_count,\n",
        "                               index='datetime',\n",
        "                               columns='machineID',\n",
        "                               values=col).rolling(window=24).sum().resample('3H',\n",
        "                                                                             closed='left',\n",
        "                                                                             label='right').first().unstack())\n",
        "error_count = pd.concat(temp, axis=1)\n",
        "error_count.columns = [i + 'count' for i in fields]\n",
        "error_count.reset_index(inplace=True)\n",
        "error_count = error_count.dropna()\n",
        "error_count.head(3)"
      ],
      "execution_count": 19,
      "outputs": [
        {
          "output_type": "execute_result",
          "data": {
            "text/html": [
              "<div>\n",
              "<style scoped>\n",
              "    .dataframe tbody tr th:only-of-type {\n",
              "        vertical-align: middle;\n",
              "    }\n",
              "\n",
              "    .dataframe tbody tr th {\n",
              "        vertical-align: top;\n",
              "    }\n",
              "\n",
              "    .dataframe thead th {\n",
              "        text-align: right;\n",
              "    }\n",
              "</style>\n",
              "<table border=\"1\" class=\"dataframe\">\n",
              "  <thead>\n",
              "    <tr style=\"text-align: right;\">\n",
              "      <th></th>\n",
              "      <th>machineID</th>\n",
              "      <th>datetime</th>\n",
              "      <th>error1count</th>\n",
              "      <th>error2count</th>\n",
              "      <th>error3count</th>\n",
              "      <th>error4count</th>\n",
              "      <th>error5count</th>\n",
              "    </tr>\n",
              "  </thead>\n",
              "  <tbody>\n",
              "    <tr>\n",
              "      <th>7</th>\n",
              "      <td>1</td>\n",
              "      <td>2015-01-02 06:00:00</td>\n",
              "      <td>0.0</td>\n",
              "      <td>0.0</td>\n",
              "      <td>0.0</td>\n",
              "      <td>0.0</td>\n",
              "      <td>0.0</td>\n",
              "    </tr>\n",
              "    <tr>\n",
              "      <th>8</th>\n",
              "      <td>1</td>\n",
              "      <td>2015-01-02 09:00:00</td>\n",
              "      <td>0.0</td>\n",
              "      <td>0.0</td>\n",
              "      <td>0.0</td>\n",
              "      <td>0.0</td>\n",
              "      <td>0.0</td>\n",
              "    </tr>\n",
              "    <tr>\n",
              "      <th>9</th>\n",
              "      <td>1</td>\n",
              "      <td>2015-01-02 12:00:00</td>\n",
              "      <td>0.0</td>\n",
              "      <td>0.0</td>\n",
              "      <td>0.0</td>\n",
              "      <td>0.0</td>\n",
              "      <td>0.0</td>\n",
              "    </tr>\n",
              "  </tbody>\n",
              "</table>\n",
              "</div>"
            ],
            "text/plain": [
              "   machineID            datetime  ...  error4count  error5count\n",
              "7          1 2015-01-02 06:00:00  ...          0.0          0.0\n",
              "8          1 2015-01-02 09:00:00  ...          0.0          0.0\n",
              "9          1 2015-01-02 12:00:00  ...          0.0          0.0\n",
              "\n",
              "[3 rows x 7 columns]"
            ]
          },
          "metadata": {
            "tags": []
          },
          "execution_count": 19
        }
      ]
    },
    {
      "cell_type": "markdown",
      "metadata": {
        "id": "BRF_bdvmP2fy",
        "colab_type": "text"
      },
      "source": [
        "### 從上次替換零件至今的天數\n",
        "\n",
        "本例中的一個關鍵數據集是維護記錄，其中包含零件更換記錄的信息。該數據集的可能特徵可以是：\n",
        "\n",
        "在過去3個月內替換每個組件的次數，以包含替換頻率。然而，更相關的信息將為最後一次替換組件以來過了多久，因為零件使用的時間越長，需要維修的可能性越高"
      ]
    },
    {
      "cell_type": "code",
      "metadata": {
        "id": "ho-RdLig47cY",
        "colab_type": "code",
        "colab": {
          "base_uri": "https://localhost:8080/",
          "height": 198
        },
        "outputId": "8863cb46-bec4-44d5-f8db-9ac0bb9cc8d9"
      },
      "source": [
        "maint.head()"
      ],
      "execution_count": 20,
      "outputs": [
        {
          "output_type": "execute_result",
          "data": {
            "text/html": [
              "<div>\n",
              "<style scoped>\n",
              "    .dataframe tbody tr th:only-of-type {\n",
              "        vertical-align: middle;\n",
              "    }\n",
              "\n",
              "    .dataframe tbody tr th {\n",
              "        vertical-align: top;\n",
              "    }\n",
              "\n",
              "    .dataframe thead th {\n",
              "        text-align: right;\n",
              "    }\n",
              "</style>\n",
              "<table border=\"1\" class=\"dataframe\">\n",
              "  <thead>\n",
              "    <tr style=\"text-align: right;\">\n",
              "      <th></th>\n",
              "      <th>datetime</th>\n",
              "      <th>machineID</th>\n",
              "      <th>comp</th>\n",
              "    </tr>\n",
              "  </thead>\n",
              "  <tbody>\n",
              "    <tr>\n",
              "      <th>0</th>\n",
              "      <td>2014-06-01 06:00:00</td>\n",
              "      <td>1</td>\n",
              "      <td>comp2</td>\n",
              "    </tr>\n",
              "    <tr>\n",
              "      <th>1</th>\n",
              "      <td>2014-07-16 06:00:00</td>\n",
              "      <td>1</td>\n",
              "      <td>comp4</td>\n",
              "    </tr>\n",
              "    <tr>\n",
              "      <th>2</th>\n",
              "      <td>2014-07-31 06:00:00</td>\n",
              "      <td>1</td>\n",
              "      <td>comp3</td>\n",
              "    </tr>\n",
              "    <tr>\n",
              "      <th>3</th>\n",
              "      <td>2014-12-13 06:00:00</td>\n",
              "      <td>1</td>\n",
              "      <td>comp1</td>\n",
              "    </tr>\n",
              "    <tr>\n",
              "      <th>4</th>\n",
              "      <td>2015-01-05 06:00:00</td>\n",
              "      <td>1</td>\n",
              "      <td>comp4</td>\n",
              "    </tr>\n",
              "  </tbody>\n",
              "</table>\n",
              "</div>"
            ],
            "text/plain": [
              "             datetime  machineID   comp\n",
              "0 2014-06-01 06:00:00          1  comp2\n",
              "1 2014-07-16 06:00:00          1  comp4\n",
              "2 2014-07-31 06:00:00          1  comp3\n",
              "3 2014-12-13 06:00:00          1  comp1\n",
              "4 2015-01-05 06:00:00          1  comp4"
            ]
          },
          "metadata": {
            "tags": []
          },
          "execution_count": 20
        }
      ]
    },
    {
      "cell_type": "code",
      "metadata": {
        "id": "FXzkbCBUP1f5",
        "colab_type": "code",
        "colab": {
          "base_uri": "https://localhost:8080/",
          "height": 198
        },
        "outputId": "8fff3c30-ff10-4b36-fad0-6159feafc781"
      },
      "source": [
        "import numpy as np\n",
        "\n",
        "# 建立錯誤型態欄位\n",
        "comp_rep = pd.get_dummies(maint)\n",
        "comp_rep.columns = ['datetime', 'machineID', 'comp1', 'comp2', 'comp3', 'comp4']\n",
        "\n",
        "# 找出該機器於單一時間點的維修次數\n",
        "comp_rep = comp_rep.groupby(['machineID', 'datetime']).sum().reset_index()\n",
        "\n",
        "# 補上沒有維修時的時間\n",
        "comp_rep = telemetry[['datetime', 'machineID']].merge(comp_rep,\n",
        "                                                      on=['datetime', 'machineID'],\n",
        "                                                      how='outer').fillna(0).sort_values(by=['machineID', 'datetime'])\n",
        "\n",
        "comp_rep.head()"
      ],
      "execution_count": 21,
      "outputs": [
        {
          "output_type": "execute_result",
          "data": {
            "text/html": [
              "<div>\n",
              "<style scoped>\n",
              "    .dataframe tbody tr th:only-of-type {\n",
              "        vertical-align: middle;\n",
              "    }\n",
              "\n",
              "    .dataframe tbody tr th {\n",
              "        vertical-align: top;\n",
              "    }\n",
              "\n",
              "    .dataframe thead th {\n",
              "        text-align: right;\n",
              "    }\n",
              "</style>\n",
              "<table border=\"1\" class=\"dataframe\">\n",
              "  <thead>\n",
              "    <tr style=\"text-align: right;\">\n",
              "      <th></th>\n",
              "      <th>datetime</th>\n",
              "      <th>machineID</th>\n",
              "      <th>comp1</th>\n",
              "      <th>comp2</th>\n",
              "      <th>comp3</th>\n",
              "      <th>comp4</th>\n",
              "    </tr>\n",
              "  </thead>\n",
              "  <tbody>\n",
              "    <tr>\n",
              "      <th>876100</th>\n",
              "      <td>2014-06-01 06:00:00</td>\n",
              "      <td>1</td>\n",
              "      <td>0.0</td>\n",
              "      <td>1.0</td>\n",
              "      <td>0.0</td>\n",
              "      <td>0.0</td>\n",
              "    </tr>\n",
              "    <tr>\n",
              "      <th>876101</th>\n",
              "      <td>2014-07-16 06:00:00</td>\n",
              "      <td>1</td>\n",
              "      <td>0.0</td>\n",
              "      <td>0.0</td>\n",
              "      <td>0.0</td>\n",
              "      <td>1.0</td>\n",
              "    </tr>\n",
              "    <tr>\n",
              "      <th>876102</th>\n",
              "      <td>2014-07-31 06:00:00</td>\n",
              "      <td>1</td>\n",
              "      <td>0.0</td>\n",
              "      <td>0.0</td>\n",
              "      <td>1.0</td>\n",
              "      <td>0.0</td>\n",
              "    </tr>\n",
              "    <tr>\n",
              "      <th>876103</th>\n",
              "      <td>2014-12-13 06:00:00</td>\n",
              "      <td>1</td>\n",
              "      <td>1.0</td>\n",
              "      <td>0.0</td>\n",
              "      <td>0.0</td>\n",
              "      <td>0.0</td>\n",
              "    </tr>\n",
              "    <tr>\n",
              "      <th>0</th>\n",
              "      <td>2015-01-01 06:00:00</td>\n",
              "      <td>1</td>\n",
              "      <td>0.0</td>\n",
              "      <td>0.0</td>\n",
              "      <td>0.0</td>\n",
              "      <td>0.0</td>\n",
              "    </tr>\n",
              "  </tbody>\n",
              "</table>\n",
              "</div>"
            ],
            "text/plain": [
              "                  datetime  machineID  comp1  comp2  comp3  comp4\n",
              "876100 2014-06-01 06:00:00          1    0.0    1.0    0.0    0.0\n",
              "876101 2014-07-16 06:00:00          1    0.0    0.0    0.0    1.0\n",
              "876102 2014-07-31 06:00:00          1    0.0    0.0    1.0    0.0\n",
              "876103 2014-12-13 06:00:00          1    1.0    0.0    0.0    0.0\n",
              "0      2015-01-01 06:00:00          1    0.0    0.0    0.0    0.0"
            ]
          },
          "metadata": {
            "tags": []
          },
          "execution_count": 21
        }
      ]
    },
    {
      "cell_type": "code",
      "metadata": {
        "id": "PYVPqJo043zN",
        "colab_type": "code",
        "colab": {
          "base_uri": "https://localhost:8080/",
          "height": 198
        },
        "outputId": "c1dd415c-c351-4267-96c8-f36824d17069"
      },
      "source": [
        "components = ['comp1', 'comp2', 'comp3', 'comp4']\n",
        "for comp in components:\n",
        "    # 找出最近更換零件時間\n",
        "    comp_rep.loc[comp_rep[comp] < 1, comp] = None\n",
        "    comp_rep.loc[-comp_rep[comp].isnull(), comp] = comp_rep.loc[-comp_rep[comp].isnull(), 'datetime']\n",
        "    \n",
        "    # 補上最近更換零件時間\n",
        "    comp_rep[comp] = comp_rep[comp].fillna(method='ffill')\n",
        "    \n",
        "# 移除包含遺失值的訊息    \n",
        "comp_rep = comp_rep.loc[comp_rep['datetime'] > pd.to_datetime('2015-01-01')]\n",
        "\n",
        "# 建立更換零件時間差特徵\n",
        "for comp in components:\n",
        "    comp_rep[comp] = (comp_rep['datetime'].astype(np.int64) - comp_rep[comp]).apply(lambda x: x /86400E9)\n",
        "    \n",
        "comp_rep.head()"
      ],
      "execution_count": 22,
      "outputs": [
        {
          "output_type": "execute_result",
          "data": {
            "text/html": [
              "<div>\n",
              "<style scoped>\n",
              "    .dataframe tbody tr th:only-of-type {\n",
              "        vertical-align: middle;\n",
              "    }\n",
              "\n",
              "    .dataframe tbody tr th {\n",
              "        vertical-align: top;\n",
              "    }\n",
              "\n",
              "    .dataframe thead th {\n",
              "        text-align: right;\n",
              "    }\n",
              "</style>\n",
              "<table border=\"1\" class=\"dataframe\">\n",
              "  <thead>\n",
              "    <tr style=\"text-align: right;\">\n",
              "      <th></th>\n",
              "      <th>datetime</th>\n",
              "      <th>machineID</th>\n",
              "      <th>comp1</th>\n",
              "      <th>comp2</th>\n",
              "      <th>comp3</th>\n",
              "      <th>comp4</th>\n",
              "    </tr>\n",
              "  </thead>\n",
              "  <tbody>\n",
              "    <tr>\n",
              "      <th>0</th>\n",
              "      <td>2015-01-01 06:00:00</td>\n",
              "      <td>1</td>\n",
              "      <td>19.000000</td>\n",
              "      <td>214.000000</td>\n",
              "      <td>154.000000</td>\n",
              "      <td>169.000000</td>\n",
              "    </tr>\n",
              "    <tr>\n",
              "      <th>1</th>\n",
              "      <td>2015-01-01 07:00:00</td>\n",
              "      <td>1</td>\n",
              "      <td>19.041667</td>\n",
              "      <td>214.041667</td>\n",
              "      <td>154.041667</td>\n",
              "      <td>169.041667</td>\n",
              "    </tr>\n",
              "    <tr>\n",
              "      <th>2</th>\n",
              "      <td>2015-01-01 08:00:00</td>\n",
              "      <td>1</td>\n",
              "      <td>19.083333</td>\n",
              "      <td>214.083333</td>\n",
              "      <td>154.083333</td>\n",
              "      <td>169.083333</td>\n",
              "    </tr>\n",
              "    <tr>\n",
              "      <th>3</th>\n",
              "      <td>2015-01-01 09:00:00</td>\n",
              "      <td>1</td>\n",
              "      <td>19.125000</td>\n",
              "      <td>214.125000</td>\n",
              "      <td>154.125000</td>\n",
              "      <td>169.125000</td>\n",
              "    </tr>\n",
              "    <tr>\n",
              "      <th>4</th>\n",
              "      <td>2015-01-01 10:00:00</td>\n",
              "      <td>1</td>\n",
              "      <td>19.166667</td>\n",
              "      <td>214.166667</td>\n",
              "      <td>154.166667</td>\n",
              "      <td>169.166667</td>\n",
              "    </tr>\n",
              "  </tbody>\n",
              "</table>\n",
              "</div>"
            ],
            "text/plain": [
              "             datetime  machineID      comp1       comp2       comp3       comp4\n",
              "0 2015-01-01 06:00:00          1  19.000000  214.000000  154.000000  169.000000\n",
              "1 2015-01-01 07:00:00          1  19.041667  214.041667  154.041667  169.041667\n",
              "2 2015-01-01 08:00:00          1  19.083333  214.083333  154.083333  169.083333\n",
              "3 2015-01-01 09:00:00          1  19.125000  214.125000  154.125000  169.125000\n",
              "4 2015-01-01 10:00:00          1  19.166667  214.166667  154.166667  169.166667"
            ]
          },
          "metadata": {
            "tags": []
          },
          "execution_count": 22
        }
      ]
    },
    {
      "cell_type": "markdown",
      "metadata": {
        "id": "V5xFgJrt5qQ-",
        "colab_type": "text"
      },
      "source": [
        "### 合併telemetry, comp_rep, error_count, machines 等所有數據特徵"
      ]
    },
    {
      "cell_type": "code",
      "metadata": {
        "id": "J4pn5HWnokOM",
        "colab_type": "code",
        "colab": {
          "base_uri": "https://localhost:8080/",
          "height": 262
        },
        "outputId": "98d2cc4c-2f67-4e31-985b-00539cb11faa"
      },
      "source": [
        "final_feat = telemetry_feat.merge(error_count, on=['datetime', 'machineID'], how='left')\n",
        "final_feat = final_feat.merge(comp_rep, on=['datetime', 'machineID'], how='left')\n",
        "final_feat = final_feat.merge(machines, on=['machineID'], how='left')\n",
        "\n",
        "final_feat.head(3)"
      ],
      "execution_count": 26,
      "outputs": [
        {
          "output_type": "execute_result",
          "data": {
            "text/html": [
              "<div>\n",
              "<style scoped>\n",
              "    .dataframe tbody tr th:only-of-type {\n",
              "        vertical-align: middle;\n",
              "    }\n",
              "\n",
              "    .dataframe tbody tr th {\n",
              "        vertical-align: top;\n",
              "    }\n",
              "\n",
              "    .dataframe thead th {\n",
              "        text-align: right;\n",
              "    }\n",
              "</style>\n",
              "<table border=\"1\" class=\"dataframe\">\n",
              "  <thead>\n",
              "    <tr style=\"text-align: right;\">\n",
              "      <th></th>\n",
              "      <th>machineID</th>\n",
              "      <th>datetime</th>\n",
              "      <th>voltmean_3h</th>\n",
              "      <th>rotatemean_3h</th>\n",
              "      <th>pressuremean_3h</th>\n",
              "      <th>vibrationmean_3h</th>\n",
              "      <th>voltsd_3h</th>\n",
              "      <th>rotatesd_3h</th>\n",
              "      <th>pressuresd_3h</th>\n",
              "      <th>vibrationsd_3h</th>\n",
              "      <th>voltmean_24h</th>\n",
              "      <th>rotatemean_24h</th>\n",
              "      <th>pressuremean_24h</th>\n",
              "      <th>vibrationmean_24h</th>\n",
              "      <th>voltsd_24h</th>\n",
              "      <th>rotatesd_24h</th>\n",
              "      <th>pressuresd_24h</th>\n",
              "      <th>vibrationsd_24h</th>\n",
              "      <th>error1count</th>\n",
              "      <th>error2count</th>\n",
              "      <th>error3count</th>\n",
              "      <th>error4count</th>\n",
              "      <th>error5count</th>\n",
              "      <th>comp1</th>\n",
              "      <th>comp2</th>\n",
              "      <th>comp3</th>\n",
              "      <th>comp4</th>\n",
              "      <th>model</th>\n",
              "      <th>age</th>\n",
              "    </tr>\n",
              "  </thead>\n",
              "  <tbody>\n",
              "    <tr>\n",
              "      <th>0</th>\n",
              "      <td>1</td>\n",
              "      <td>2015-01-02 06:00:00</td>\n",
              "      <td>180.133784</td>\n",
              "      <td>440.608320</td>\n",
              "      <td>94.137969</td>\n",
              "      <td>41.551544</td>\n",
              "      <td>21.322735</td>\n",
              "      <td>48.770512</td>\n",
              "      <td>2.135684</td>\n",
              "      <td>10.037208</td>\n",
              "      <td>169.733809</td>\n",
              "      <td>445.179865</td>\n",
              "      <td>96.797113</td>\n",
              "      <td>40.385160</td>\n",
              "      <td>11.233120</td>\n",
              "      <td>48.717395</td>\n",
              "      <td>10.079880</td>\n",
              "      <td>5.853209</td>\n",
              "      <td>0.0</td>\n",
              "      <td>0.0</td>\n",
              "      <td>0.0</td>\n",
              "      <td>0.0</td>\n",
              "      <td>0.0</td>\n",
              "      <td>20.000</td>\n",
              "      <td>215.000</td>\n",
              "      <td>155.000</td>\n",
              "      <td>170.000</td>\n",
              "      <td>model3</td>\n",
              "      <td>18</td>\n",
              "    </tr>\n",
              "    <tr>\n",
              "      <th>1</th>\n",
              "      <td>1</td>\n",
              "      <td>2015-01-02 09:00:00</td>\n",
              "      <td>176.364293</td>\n",
              "      <td>439.349655</td>\n",
              "      <td>101.553209</td>\n",
              "      <td>36.105580</td>\n",
              "      <td>18.952210</td>\n",
              "      <td>51.329636</td>\n",
              "      <td>13.789279</td>\n",
              "      <td>6.737739</td>\n",
              "      <td>170.614862</td>\n",
              "      <td>446.364859</td>\n",
              "      <td>96.849785</td>\n",
              "      <td>39.736826</td>\n",
              "      <td>12.519402</td>\n",
              "      <td>48.385076</td>\n",
              "      <td>10.171540</td>\n",
              "      <td>6.163231</td>\n",
              "      <td>0.0</td>\n",
              "      <td>0.0</td>\n",
              "      <td>0.0</td>\n",
              "      <td>0.0</td>\n",
              "      <td>0.0</td>\n",
              "      <td>20.125</td>\n",
              "      <td>215.125</td>\n",
              "      <td>155.125</td>\n",
              "      <td>170.125</td>\n",
              "      <td>model3</td>\n",
              "      <td>18</td>\n",
              "    </tr>\n",
              "    <tr>\n",
              "      <th>2</th>\n",
              "      <td>1</td>\n",
              "      <td>2015-01-02 12:00:00</td>\n",
              "      <td>160.384568</td>\n",
              "      <td>424.385316</td>\n",
              "      <td>99.598722</td>\n",
              "      <td>36.094637</td>\n",
              "      <td>13.047080</td>\n",
              "      <td>13.702496</td>\n",
              "      <td>9.988609</td>\n",
              "      <td>1.639962</td>\n",
              "      <td>169.893965</td>\n",
              "      <td>447.009407</td>\n",
              "      <td>97.715600</td>\n",
              "      <td>39.498374</td>\n",
              "      <td>13.370357</td>\n",
              "      <td>42.432317</td>\n",
              "      <td>9.471669</td>\n",
              "      <td>6.195076</td>\n",
              "      <td>0.0</td>\n",
              "      <td>0.0</td>\n",
              "      <td>0.0</td>\n",
              "      <td>0.0</td>\n",
              "      <td>0.0</td>\n",
              "      <td>20.250</td>\n",
              "      <td>215.250</td>\n",
              "      <td>155.250</td>\n",
              "      <td>170.250</td>\n",
              "      <td>model3</td>\n",
              "      <td>18</td>\n",
              "    </tr>\n",
              "  </tbody>\n",
              "</table>\n",
              "</div>"
            ],
            "text/plain": [
              "   machineID            datetime  voltmean_3h  ...    comp4   model  age\n",
              "0          1 2015-01-02 06:00:00   180.133784  ...  170.000  model3   18\n",
              "1          1 2015-01-02 09:00:00   176.364293  ...  170.125  model3   18\n",
              "2          1 2015-01-02 12:00:00   160.384568  ...  170.250  model3   18\n",
              "\n",
              "[3 rows x 29 columns]"
            ]
          },
          "metadata": {
            "tags": []
          },
          "execution_count": 26
        }
      ]
    },
    {
      "cell_type": "markdown",
      "metadata": {
        "id": "zBRRj8YFyqzG",
        "colab_type": "text"
      },
      "source": [
        "## 建立 X (特徵: final_feat) 與 y (故障：failures)"
      ]
    },
    {
      "cell_type": "code",
      "metadata": {
        "id": "YtLu2r1EQCkl",
        "colab_type": "code",
        "colab": {
          "base_uri": "https://localhost:8080/",
          "height": 391
        },
        "outputId": "bb1aacfd-f2ef-4556-a7ba-45ee867153a3"
      },
      "source": [
        "labeled_features = final_feat.merge(failures, on=['datetime', 'machineID'], how='left')\n",
        "labeled_features = labeled_features.bfill(axis = 1, limit=7) \n",
        "labeled_features = labeled_features.fillna('none')\n",
        "labeled_features.head()"
      ],
      "execution_count": 27,
      "outputs": [
        {
          "output_type": "execute_result",
          "data": {
            "text/html": [
              "<div>\n",
              "<style scoped>\n",
              "    .dataframe tbody tr th:only-of-type {\n",
              "        vertical-align: middle;\n",
              "    }\n",
              "\n",
              "    .dataframe tbody tr th {\n",
              "        vertical-align: top;\n",
              "    }\n",
              "\n",
              "    .dataframe thead th {\n",
              "        text-align: right;\n",
              "    }\n",
              "</style>\n",
              "<table border=\"1\" class=\"dataframe\">\n",
              "  <thead>\n",
              "    <tr style=\"text-align: right;\">\n",
              "      <th></th>\n",
              "      <th>machineID</th>\n",
              "      <th>datetime</th>\n",
              "      <th>voltmean_3h</th>\n",
              "      <th>rotatemean_3h</th>\n",
              "      <th>pressuremean_3h</th>\n",
              "      <th>vibrationmean_3h</th>\n",
              "      <th>voltsd_3h</th>\n",
              "      <th>rotatesd_3h</th>\n",
              "      <th>pressuresd_3h</th>\n",
              "      <th>vibrationsd_3h</th>\n",
              "      <th>voltmean_24h</th>\n",
              "      <th>rotatemean_24h</th>\n",
              "      <th>pressuremean_24h</th>\n",
              "      <th>vibrationmean_24h</th>\n",
              "      <th>voltsd_24h</th>\n",
              "      <th>rotatesd_24h</th>\n",
              "      <th>pressuresd_24h</th>\n",
              "      <th>vibrationsd_24h</th>\n",
              "      <th>error1count</th>\n",
              "      <th>error2count</th>\n",
              "      <th>error3count</th>\n",
              "      <th>error4count</th>\n",
              "      <th>error5count</th>\n",
              "      <th>comp1</th>\n",
              "      <th>comp2</th>\n",
              "      <th>comp3</th>\n",
              "      <th>comp4</th>\n",
              "      <th>model</th>\n",
              "      <th>age</th>\n",
              "      <th>failure</th>\n",
              "    </tr>\n",
              "  </thead>\n",
              "  <tbody>\n",
              "    <tr>\n",
              "      <th>0</th>\n",
              "      <td>1</td>\n",
              "      <td>2015-01-02 06:00:00</td>\n",
              "      <td>180.133784</td>\n",
              "      <td>440.608320</td>\n",
              "      <td>94.137969</td>\n",
              "      <td>41.551544</td>\n",
              "      <td>21.322735</td>\n",
              "      <td>48.770512</td>\n",
              "      <td>2.135684</td>\n",
              "      <td>10.037208</td>\n",
              "      <td>169.733809</td>\n",
              "      <td>445.179865</td>\n",
              "      <td>96.797113</td>\n",
              "      <td>40.385160</td>\n",
              "      <td>11.233120</td>\n",
              "      <td>48.717395</td>\n",
              "      <td>10.079880</td>\n",
              "      <td>5.853209</td>\n",
              "      <td>0.0</td>\n",
              "      <td>0.0</td>\n",
              "      <td>0.0</td>\n",
              "      <td>0.0</td>\n",
              "      <td>0.0</td>\n",
              "      <td>20.000</td>\n",
              "      <td>215.000</td>\n",
              "      <td>155.000</td>\n",
              "      <td>170.000</td>\n",
              "      <td>model3</td>\n",
              "      <td>18</td>\n",
              "      <td>none</td>\n",
              "    </tr>\n",
              "    <tr>\n",
              "      <th>1</th>\n",
              "      <td>1</td>\n",
              "      <td>2015-01-02 09:00:00</td>\n",
              "      <td>176.364293</td>\n",
              "      <td>439.349655</td>\n",
              "      <td>101.553209</td>\n",
              "      <td>36.105580</td>\n",
              "      <td>18.952210</td>\n",
              "      <td>51.329636</td>\n",
              "      <td>13.789279</td>\n",
              "      <td>6.737739</td>\n",
              "      <td>170.614862</td>\n",
              "      <td>446.364859</td>\n",
              "      <td>96.849785</td>\n",
              "      <td>39.736826</td>\n",
              "      <td>12.519402</td>\n",
              "      <td>48.385076</td>\n",
              "      <td>10.171540</td>\n",
              "      <td>6.163231</td>\n",
              "      <td>0.0</td>\n",
              "      <td>0.0</td>\n",
              "      <td>0.0</td>\n",
              "      <td>0.0</td>\n",
              "      <td>0.0</td>\n",
              "      <td>20.125</td>\n",
              "      <td>215.125</td>\n",
              "      <td>155.125</td>\n",
              "      <td>170.125</td>\n",
              "      <td>model3</td>\n",
              "      <td>18</td>\n",
              "      <td>none</td>\n",
              "    </tr>\n",
              "    <tr>\n",
              "      <th>2</th>\n",
              "      <td>1</td>\n",
              "      <td>2015-01-02 12:00:00</td>\n",
              "      <td>160.384568</td>\n",
              "      <td>424.385316</td>\n",
              "      <td>99.598722</td>\n",
              "      <td>36.094637</td>\n",
              "      <td>13.047080</td>\n",
              "      <td>13.702496</td>\n",
              "      <td>9.988609</td>\n",
              "      <td>1.639962</td>\n",
              "      <td>169.893965</td>\n",
              "      <td>447.009407</td>\n",
              "      <td>97.715600</td>\n",
              "      <td>39.498374</td>\n",
              "      <td>13.370357</td>\n",
              "      <td>42.432317</td>\n",
              "      <td>9.471669</td>\n",
              "      <td>6.195076</td>\n",
              "      <td>0.0</td>\n",
              "      <td>0.0</td>\n",
              "      <td>0.0</td>\n",
              "      <td>0.0</td>\n",
              "      <td>0.0</td>\n",
              "      <td>20.250</td>\n",
              "      <td>215.250</td>\n",
              "      <td>155.250</td>\n",
              "      <td>170.250</td>\n",
              "      <td>model3</td>\n",
              "      <td>18</td>\n",
              "      <td>none</td>\n",
              "    </tr>\n",
              "    <tr>\n",
              "      <th>3</th>\n",
              "      <td>1</td>\n",
              "      <td>2015-01-02 15:00:00</td>\n",
              "      <td>170.472461</td>\n",
              "      <td>442.933997</td>\n",
              "      <td>102.380586</td>\n",
              "      <td>40.483002</td>\n",
              "      <td>16.642354</td>\n",
              "      <td>56.290447</td>\n",
              "      <td>3.305739</td>\n",
              "      <td>8.854145</td>\n",
              "      <td>171.243444</td>\n",
              "      <td>444.233563</td>\n",
              "      <td>96.666060</td>\n",
              "      <td>40.229370</td>\n",
              "      <td>13.299281</td>\n",
              "      <td>41.346121</td>\n",
              "      <td>8.731229</td>\n",
              "      <td>5.687944</td>\n",
              "      <td>0.0</td>\n",
              "      <td>0.0</td>\n",
              "      <td>0.0</td>\n",
              "      <td>0.0</td>\n",
              "      <td>0.0</td>\n",
              "      <td>20.375</td>\n",
              "      <td>215.375</td>\n",
              "      <td>155.375</td>\n",
              "      <td>170.375</td>\n",
              "      <td>model3</td>\n",
              "      <td>18</td>\n",
              "      <td>none</td>\n",
              "    </tr>\n",
              "    <tr>\n",
              "      <th>4</th>\n",
              "      <td>1</td>\n",
              "      <td>2015-01-02 18:00:00</td>\n",
              "      <td>163.263806</td>\n",
              "      <td>468.937558</td>\n",
              "      <td>102.726648</td>\n",
              "      <td>40.921802</td>\n",
              "      <td>17.424688</td>\n",
              "      <td>38.680380</td>\n",
              "      <td>9.105775</td>\n",
              "      <td>3.060781</td>\n",
              "      <td>170.792486</td>\n",
              "      <td>448.440437</td>\n",
              "      <td>95.766838</td>\n",
              "      <td>40.055214</td>\n",
              "      <td>13.954518</td>\n",
              "      <td>43.490234</td>\n",
              "      <td>8.061653</td>\n",
              "      <td>5.898069</td>\n",
              "      <td>0.0</td>\n",
              "      <td>0.0</td>\n",
              "      <td>0.0</td>\n",
              "      <td>0.0</td>\n",
              "      <td>0.0</td>\n",
              "      <td>20.500</td>\n",
              "      <td>215.500</td>\n",
              "      <td>155.500</td>\n",
              "      <td>170.500</td>\n",
              "      <td>model3</td>\n",
              "      <td>18</td>\n",
              "      <td>none</td>\n",
              "    </tr>\n",
              "  </tbody>\n",
              "</table>\n",
              "</div>"
            ],
            "text/plain": [
              "   machineID            datetime  voltmean_3h  ...   model  age  failure\n",
              "0          1 2015-01-02 06:00:00   180.133784  ...  model3   18     none\n",
              "1          1 2015-01-02 09:00:00   176.364293  ...  model3   18     none\n",
              "2          1 2015-01-02 12:00:00   160.384568  ...  model3   18     none\n",
              "3          1 2015-01-02 15:00:00   170.472461  ...  model3   18     none\n",
              "4          1 2015-01-02 18:00:00   163.263806  ...  model3   18     none\n",
              "\n",
              "[5 rows x 30 columns]"
            ]
          },
          "metadata": {
            "tags": []
          },
          "execution_count": 27
        }
      ]
    },
    {
      "cell_type": "markdown",
      "metadata": {
        "id": "iQEIOwch6S05",
        "colab_type": "text"
      },
      "source": [
        "## 建立訓練與測試數據集"
      ]
    },
    {
      "cell_type": "code",
      "metadata": {
        "id": "KTmKw4056aoy",
        "colab_type": "code",
        "colab": {}
      },
      "source": [
        "last_train_date, first_test_date = pd.to_datetime('2015-07-31 01:00:00'), pd.to_datetime('2015-08-01 01:00:00')\n",
        "\n",
        "train_y = labeled_features.loc[labeled_features['datetime'] < last_train_date, 'failure']\n",
        "train_X = pd.get_dummies(labeled_features.loc[labeled_features['datetime'] < last_train_date].drop(['datetime',\n",
        "                                                                                                        'machineID',\n",
        "                                                                                                        'failure'], 1))\n",
        "test_X = pd.get_dummies(labeled_features.loc[labeled_features['datetime'] > first_test_date].drop(['datetime',\n",
        "                                                                                                       'machineID',\n",
        "                                                                                                       'failure'], 1))"
      ],
      "execution_count": 28,
      "outputs": []
    },
    {
      "cell_type": "markdown",
      "metadata": {
        "id": "ZnPykz_c6ihf",
        "colab_type": "text"
      },
      "source": [
        "## 建立模型"
      ]
    },
    {
      "cell_type": "code",
      "metadata": {
        "id": "BtyZzavy6g6v",
        "colab_type": "code",
        "colab": {
          "base_uri": "https://localhost:8080/",
          "height": 155
        },
        "outputId": "844788b1-c079-446f-d908-c6ebae8174f5"
      },
      "source": [
        "from sklearn.ensemble import RandomForestClassifier\n",
        "clf = RandomForestClassifier(random_state=42)\n",
        "clf.fit(train_X, train_y)\n",
        "    "
      ],
      "execution_count": 29,
      "outputs": [
        {
          "output_type": "execute_result",
          "data": {
            "text/plain": [
              "RandomForestClassifier(bootstrap=True, ccp_alpha=0.0, class_weight=None,\n",
              "                       criterion='gini', max_depth=None, max_features='auto',\n",
              "                       max_leaf_nodes=None, max_samples=None,\n",
              "                       min_impurity_decrease=0.0, min_impurity_split=None,\n",
              "                       min_samples_leaf=1, min_samples_split=2,\n",
              "                       min_weight_fraction_leaf=0.0, n_estimators=100,\n",
              "                       n_jobs=None, oob_score=False, random_state=42, verbose=0,\n",
              "                       warm_start=False)"
            ]
          },
          "metadata": {
            "tags": []
          },
          "execution_count": 29
        }
      ]
    },
    {
      "cell_type": "markdown",
      "metadata": {
        "id": "jVdpK3RP62bO",
        "colab_type": "text"
      },
      "source": [
        "## 將模型套用至測試數據集"
      ]
    },
    {
      "cell_type": "code",
      "metadata": {
        "id": "wa08l8Y0qxNT",
        "colab_type": "code",
        "colab": {}
      },
      "source": [
        "test_y = labeled_features.loc[labeled_features['datetime'] > first_test_date, 'failure']\n",
        "pred_y = clf.predict(test_X)"
      ],
      "execution_count": 30,
      "outputs": []
    },
    {
      "cell_type": "markdown",
      "metadata": {
        "id": "ZclM-zZb7XCr",
        "colab_type": "text"
      },
      "source": [
        "## 檢視特徵重要性"
      ]
    },
    {
      "cell_type": "code",
      "metadata": {
        "id": "yFrHwNBmrGG3",
        "colab_type": "code",
        "colab": {
          "base_uri": "https://localhost:8080/",
          "height": 478
        },
        "outputId": "7903e5f7-98d2-4d4b-ca7a-057f5ccc56f4"
      },
      "source": [
        "import operator\n",
        "\n",
        "plt.figure(figsize=(10, 6))\n",
        "labels, importances = zip(*sorted(zip(test_X.columns, clf.feature_importances_),\n",
        "                                  reverse=True,\n",
        "                                  key=operator.itemgetter(1)))\n",
        "plt.xticks(range(len(labels)), labels)\n",
        "_, labels = plt.xticks()\n",
        "plt.setp(labels, rotation=90)\n",
        "plt.bar(range(len(importances)), importances)\n",
        "plt.ylabel('Importance')"
      ],
      "execution_count": 32,
      "outputs": [
        {
          "output_type": "execute_result",
          "data": {
            "text/plain": [
              "Text(0, 0.5, 'Importance')"
            ]
          },
          "metadata": {
            "tags": []
          },
          "execution_count": 32
        },
        {
          "output_type": "display_data",
          "data": {
            "image/png": "[encoded data removed]",
            "text/plain": [
              "<Figure size 720x432 with 1 Axes>"
            ]
          },
          "metadata": {
            "tags": [],
            "needs_background": "light"
          }
        }
      ]
    },
    {
      "cell_type": "markdown",
      "metadata": {
        "id": "V7_ZnMgh9GQ8",
        "colab_type": "text"
      },
      "source": [
        "## 評估模型"
      ]
    },
    {
      "cell_type": "code",
      "metadata": {
        "id": "fs914EJI7864",
        "colab_type": "code",
        "colab": {
          "base_uri": "https://localhost:8080/",
          "height": 35
        },
        "outputId": "899e27aa-8c7e-4757-e7a3-a2e77f1601ce"
      },
      "source": [
        "from sklearn.metrics import confusion_matrix, accuracy_score\n",
        "print(accuracy_score(test_y, pred_y))"
      ],
      "execution_count": 33,
      "outputs": [
        {
          "output_type": "stream",
          "text": [
            "0.999845048483514\n"
          ],
          "name": "stdout"
        }
      ]
    },
    {
      "cell_type": "code",
      "metadata": {
        "id": "BHF5tL8r8dic",
        "colab_type": "code",
        "colab": {
          "base_uri": "https://localhost:8080/",
          "height": 121
        },
        "outputId": "c98eb0c8-cc08-45de-f126-a00f9eac45a3"
      },
      "source": [
        "labels = ['none', 'comp1', 'comp2', 'comp3', 'comp4']\n",
        "cm = confusion_matrix(test_y, pred_y, labels = labels)\n",
        "print(labels)\n",
        "print(cm)"
      ],
      "execution_count": 34,
      "outputs": [
        {
          "output_type": "stream",
          "text": [
            "['none', 'comp1', 'comp2', 'comp3', 'comp4']\n",
            "[[122316      0      0      0      0]\n",
            " [     0     61      2      0      3]\n",
            " [     0      1    111      0      0]\n",
            " [     0      3      2     46      1]\n",
            " [     0      0      7      0     66]]\n"
          ],
          "name": "stdout"
        }
      ]
    },
    {
      "cell_type": "code",
      "metadata": {
        "id": "zYJ_uFQEu0b4",
        "colab_type": "code",
        "colab": {
          "base_uri": "https://localhost:8080/",
          "height": 225
        },
        "outputId": "d7ba923c-3ad5-4fb1-ecef-7f0379b723f8"
      },
      "source": [
        "from sklearn.metrics import confusion_matrix, classification_report\n",
        "print(classification_report(test_y, pred_y))"
      ],
      "execution_count": 35,
      "outputs": [
        {
          "output_type": "stream",
          "text": [
            "              precision    recall  f1-score   support\n",
            "\n",
            "       comp1       0.94      0.92      0.93        66\n",
            "       comp2       0.91      0.99      0.95       112\n",
            "       comp3       1.00      0.88      0.94        52\n",
            "       comp4       0.94      0.90      0.92        73\n",
            "        none       1.00      1.00      1.00    122316\n",
            "\n",
            "    accuracy                           1.00    122619\n",
            "   macro avg       0.96      0.94      0.95    122619\n",
            "weighted avg       1.00      1.00      1.00    122619\n",
            "\n"
          ],
          "name": "stdout"
        }
      ]
    }
  ]
}